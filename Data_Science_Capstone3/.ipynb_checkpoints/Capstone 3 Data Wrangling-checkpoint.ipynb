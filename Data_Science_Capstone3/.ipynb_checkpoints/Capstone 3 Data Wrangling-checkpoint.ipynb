{
 "cells": [
  {
   "cell_type": "markdown",
   "id": "4ba43047",
   "metadata": {},
   "source": [
    "# Data Wrangling"
   ]
  },
  {
   "cell_type": "markdown",
   "id": "f59dd204",
   "metadata": {},
   "source": [
    "In this project, I will be looking at COVID information from Mexico to predict high risk patients and then find where the best locations to send supplies. "
   ]
  },
  {
   "cell_type": "markdown",
   "id": "780c1a6f",
   "metadata": {},
   "source": [
    "This data was found on Kaggle and originates from the Mexican Government General Directorate of Epidemiology\n",
    "\n",
    "(https://www.kaggle.com/datasets/marianarfranklin/mexico-covid19-clinical-data)\n",
    "\n",
    "(https://www.gob.mx/salud/documentos/datos-abiertos-152127)"
   ]
  },
  {
   "cell_type": "markdown",
   "id": "39c5dfce",
   "metadata": {},
   "source": [
    "The data is mostly made up of categorical data, but also includes date-time data and location data.\n",
    "\n",
    "\n",
    "Below is an explanation of each feature along with how these will be preprocessed to allow for better analysis and model building.\n",
    "\n",
    "\n",
    "'FECHA_ACTUALIZACION' : 'Updated Date'\n",
    "\n",
    "\n",
    "- Database is updated daily, so this shows the most date of the most recent update\n",
    "\n",
    "'ID_REGISTRO' : 'Registration ID'\n",
    "\n",
    "- Case Identifier Number\n",
    "\n",
    "\n",
    "'ORIGEN' : 'Origin'\n",
    "\n",
    "'SECTOR' : 'Sector'     \n",
    "\n",
    "- Type of institution that is providing care\n",
    "\n",
    "'ENTIDAD_UM' : 'Entity'\n",
    "\n",
    "- Entity or State \n",
    "\n",
    "'SEXO' : 'Sex'\n",
    "\n",
    "- Sex of the Patient \n",
    "- 1 is Female : 2 is Male\n",
    "\n",
    "'ENTIDAD_NAC' : 'Birth Entity'\n",
    "\n",
    "'ENTIDAD_RES' : 'Residence Entity' \n",
    "\n",
    "'MUNICIPIO_RES' : 'Residence Municipality'\n",
    "\n",
    "'TIPO_PACIENTE' : 'Patient Type'\n",
    "- 1 if the patient was sent home (outpatient)\n",
    "- 2 if patient was admitted to the hospital (hospitalized)\n",
    "- 99 is unspecified \n",
    "\n",
    "'FECHA_INGRESO' : 'Date Entry'    \n",
    "- Date of admission\n",
    "\n",
    "'FECHA_SINTOMAS' : 'Date Symptoms'\n",
    "- Date which patients symptoms began\n",
    "\n",
    "'FECHA_DEF' : 'Date Died'\n",
    "- Date the patient died\n",
    "- Actual date if the patient died\n",
    "- 9999-99-99 if they didn't die, but how long patient was in the hospital is unknown \n",
    "\n",
    "'INTUBADO' : 'Intubated'\n",
    "- If patient required intubation\n",
    "- 1 if the patient was intubated : 2 if not\n",
    "- 97 and 99 are considered missing values. \n",
    "\n",
    "'NEUMONIA' : 'Pneumonia'\n",
    "- Diagnosed with pneumonia\n",
    "- 1 if the patient was found to have pneumonia:  2 if not. \n",
    "- 99 is missing data.\n",
    "\n",
    "'EDAD' : 'Age'\n",
    "- Age of patient\n",
    "\n",
    "'NACIONALIDAD' : 'Nationality'\n",
    "\n",
    "'EMBARAZO' : 'Pregnant'\n",
    "- 1 if the patient was pregnant : 2 if not\n",
    "- 97 and 98 are missing values.\n",
    "\n",
    "'HABLA_LENGUA_INDIG' : 'Language'\n",
    "- If patient speaks indigenous language\n",
    "\n",
    "'INDIGENA' : 'Indigenous'\n",
    "- If patient self-identifies as an indigenous person\n",
    "\n",
    "'DIABETES' : 'Diabetes'\n",
    "- 1 if the patient has diabetes : 2 if not\n",
    "- 98 is missing data. \n",
    "- There does not appear to be a distinction between Type 1 and Type 2 diabetes in this data\n",
    "\n",
    "'EPOC' : 'COPD' \n",
    "- 1 if the patient has Chronic Obstructive Pulmonary Disease : 2 if not\n",
    "- 98 is missing data.\n",
    "\n",
    "'ASMA' : 'Asthma' \n",
    "- 1 if the patient has asthma : 2 if not\n",
    "- 98 is missing data\n",
    "\n",
    "'INMUSUPR' : 'Immunosuppresed' \n",
    "- 1 if the patient is immunosuppressed : 2 if not\n",
    "- 98 is missing data.\n",
    "\n",
    "'HIPERTENSION' : 'Hypertension' \n",
    "- 1 if the patient has hypertension : 2 if not. \n",
    "- 98 is missing data.\n",
    "\n",
    "'OTRA_COM' : 'Other Disease’\n",
    "- 1 if the patient has some other unspecified disease : 2 if not. \n",
    "- 98 is missing data.\n",
    "\n",
    "'CARDIOVASCULAR' : 'Cardiovascular'\n",
    "- 1 if the patient has a cardiovascular disease : 2 if not. \n",
    "- 98 is missing data.\n",
    "\n",
    "'OBESIDAD' : 'Obesity'\n",
    "- 1 if the patient is classified as obese : 2 if not. \n",
    "- 98 is missing data.\n",
    "\n",
    "'RENAL_CRONICA' : 'Chronic Kidney' \n",
    "- 1 if the patient has chronic renal disease : 2 if not. \n",
    "- 98 is missing data\n",
    "\n",
    "'TABAQUISMO' : 'Tobacco'\n",
    "- 1 if the patient uses tobacco products : 2 if not. \n",
    "- 98 is missing data.\n",
    "\n",
    "'OTRO_CASO' : 'COVID Contact'\n",
    "- If patient had contact with any cases diagnosed with CoV-2, but doesn’t specify timeframe\n",
    "\n",
    "'TOMA_MUESTRA_LAB' : 'Lab Sample'\n",
    "- If there was a lab sample taken\n",
    "\n",
    "'RESULTADO_LAB' : 'Sample Result'\n",
    "- Lab sample result\n",
    "\n",
    "'TOMA_MUESTRA_ANTIGENO' : 'Antigen Sample'\n",
    "- If there was an antigen sample taken\n",
    "\n",
    "'RESULTADO_ANTIGENO' : 'Antigen Result'\n",
    "- Antigen Sample Result\n",
    "\n",
    "'CLASIFICACION_FINAL' : 'COVID' \n",
    "- Values of 1 - 3 signify the patient tested positive for COVID-19 in some degree\n",
    "- 4 and above means the test was either inconclusive or negative. \n",
    "\n",
    "'MIGRANTE' : 'Migrant'\n",
    "- If the patient is a migrant\n",
    "\n",
    "'PAIS_NACIONALIDAD' : 'Nationality'\n",
    "- Patient Nationality\n",
    "\n",
    "'PAIS_ORIGEN' : 'Country Origin'\n",
    "- The Country the patient left for Mexico\n",
    "\n",
    "'UCI' : 'ICU'\n",
    "- 1 if the patient was admitted to the icu : 2 if not. \n",
    "- 97 and 99 represent missing values. \n"
   ]
  },
  {
   "cell_type": "code",
   "execution_count": 1,
   "id": "3fda725e",
   "metadata": {},
   "outputs": [],
   "source": [
    "#Import Libraries\n",
    "\n",
    "import pandas as pd\n",
    "import matplotlib.pyplot as plt\n",
    "import seaborn as sns\n",
    "import numpy as np"
   ]
  },
  {
   "cell_type": "code",
   "execution_count": 2,
   "id": "53687af5",
   "metadata": {},
   "outputs": [
    {
     "name": "stderr",
     "output_type": "stream",
     "text": [
      "C:\\Users\\aykal\\anaconda3\\lib\\site-packages\\IPython\\core\\interactiveshell.py:3444: DtypeWarning: Columns (38) have mixed types.Specify dtype option on import or set low_memory=False.\n",
      "  exec(code_obj, self.user_global_ns, self.user_ns)\n"
     ]
    }
   ],
   "source": [
    "df=pd.read_csv('221227COVID19MEXICO.csv')"
   ]
  },
  {
   "cell_type": "code",
   "execution_count": null,
   "id": "6b037a05",
   "metadata": {
    "scrolled": true
   },
   "outputs": [],
   "source": [
    "df.info()"
   ]
  },
  {
   "cell_type": "markdown",
   "id": "01586e30",
   "metadata": {},
   "source": [
    "Starting out with 6330966 rows and 40 columns"
   ]
  },
  {
   "cell_type": "code",
   "execution_count": null,
   "id": "938dc672",
   "metadata": {
    "scrolled": true
   },
   "outputs": [],
   "source": [
    "df.head(5)"
   ]
  },
  {
   "cell_type": "code",
   "execution_count": null,
   "id": "9303bded",
   "metadata": {},
   "outputs": [],
   "source": [
    "cols = df.columns.values\n",
    "cols"
   ]
  },
  {
   "cell_type": "markdown",
   "id": "17646619",
   "metadata": {},
   "source": [
    "I will rename the data to make it easier to refer back to each column and know what they are for. "
   ]
  },
  {
   "cell_type": "code",
   "execution_count": 3,
   "id": "12e39f39",
   "metadata": {},
   "outputs": [
    {
     "data": {
      "text/html": [
       "<div>\n",
       "<style scoped>\n",
       "    .dataframe tbody tr th:only-of-type {\n",
       "        vertical-align: middle;\n",
       "    }\n",
       "\n",
       "    .dataframe tbody tr th {\n",
       "        vertical-align: top;\n",
       "    }\n",
       "\n",
       "    .dataframe thead th {\n",
       "        text-align: right;\n",
       "    }\n",
       "</style>\n",
       "<table border=\"1\" class=\"dataframe\">\n",
       "  <thead>\n",
       "    <tr style=\"text-align: right;\">\n",
       "      <th></th>\n",
       "      <th>Updated Date</th>\n",
       "      <th>Registration ID</th>\n",
       "      <th>Origin</th>\n",
       "      <th>Sector</th>\n",
       "      <th>Entity</th>\n",
       "      <th>Sex</th>\n",
       "      <th>Birth Entity</th>\n",
       "      <th>Residence Entity</th>\n",
       "      <th>Residence Municipality</th>\n",
       "      <th>Patient Type</th>\n",
       "      <th>...</th>\n",
       "      <th>COVID Contact</th>\n",
       "      <th>Lab Sample</th>\n",
       "      <th>Sample Result</th>\n",
       "      <th>Antigen Sample</th>\n",
       "      <th>Antigen Result</th>\n",
       "      <th>COVID</th>\n",
       "      <th>Migrant</th>\n",
       "      <th>Previous Nationality</th>\n",
       "      <th>Previous Origin</th>\n",
       "      <th>ICU</th>\n",
       "    </tr>\n",
       "  </thead>\n",
       "  <tbody>\n",
       "    <tr>\n",
       "      <th>0</th>\n",
       "      <td>2022-12-27</td>\n",
       "      <td>10e0db</td>\n",
       "      <td>1</td>\n",
       "      <td>12</td>\n",
       "      <td>20</td>\n",
       "      <td>2</td>\n",
       "      <td>20</td>\n",
       "      <td>20</td>\n",
       "      <td>67</td>\n",
       "      <td>1</td>\n",
       "      <td>...</td>\n",
       "      <td>1</td>\n",
       "      <td>2</td>\n",
       "      <td>97</td>\n",
       "      <td>1</td>\n",
       "      <td>2</td>\n",
       "      <td>7</td>\n",
       "      <td>99</td>\n",
       "      <td>México</td>\n",
       "      <td>97</td>\n",
       "      <td>97</td>\n",
       "    </tr>\n",
       "    <tr>\n",
       "      <th>1</th>\n",
       "      <td>2022-12-27</td>\n",
       "      <td>0989f5</td>\n",
       "      <td>2</td>\n",
       "      <td>12</td>\n",
       "      <td>14</td>\n",
       "      <td>1</td>\n",
       "      <td>32</td>\n",
       "      <td>14</td>\n",
       "      <td>71</td>\n",
       "      <td>1</td>\n",
       "      <td>...</td>\n",
       "      <td>2</td>\n",
       "      <td>2</td>\n",
       "      <td>97</td>\n",
       "      <td>1</td>\n",
       "      <td>1</td>\n",
       "      <td>3</td>\n",
       "      <td>99</td>\n",
       "      <td>México</td>\n",
       "      <td>97</td>\n",
       "      <td>97</td>\n",
       "    </tr>\n",
       "    <tr>\n",
       "      <th>2</th>\n",
       "      <td>2022-12-27</td>\n",
       "      <td>01e27d</td>\n",
       "      <td>2</td>\n",
       "      <td>9</td>\n",
       "      <td>25</td>\n",
       "      <td>2</td>\n",
       "      <td>25</td>\n",
       "      <td>25</td>\n",
       "      <td>1</td>\n",
       "      <td>1</td>\n",
       "      <td>...</td>\n",
       "      <td>2</td>\n",
       "      <td>2</td>\n",
       "      <td>97</td>\n",
       "      <td>1</td>\n",
       "      <td>2</td>\n",
       "      <td>7</td>\n",
       "      <td>99</td>\n",
       "      <td>México</td>\n",
       "      <td>97</td>\n",
       "      <td>97</td>\n",
       "    </tr>\n",
       "    <tr>\n",
       "      <th>3</th>\n",
       "      <td>2022-12-27</td>\n",
       "      <td>180725</td>\n",
       "      <td>2</td>\n",
       "      <td>9</td>\n",
       "      <td>9</td>\n",
       "      <td>2</td>\n",
       "      <td>9</td>\n",
       "      <td>9</td>\n",
       "      <td>12</td>\n",
       "      <td>2</td>\n",
       "      <td>...</td>\n",
       "      <td>2</td>\n",
       "      <td>2</td>\n",
       "      <td>97</td>\n",
       "      <td>1</td>\n",
       "      <td>2</td>\n",
       "      <td>7</td>\n",
       "      <td>99</td>\n",
       "      <td>México</td>\n",
       "      <td>97</td>\n",
       "      <td>2</td>\n",
       "    </tr>\n",
       "    <tr>\n",
       "      <th>4</th>\n",
       "      <td>2022-12-27</td>\n",
       "      <td>0793b8</td>\n",
       "      <td>2</td>\n",
       "      <td>12</td>\n",
       "      <td>9</td>\n",
       "      <td>2</td>\n",
       "      <td>9</td>\n",
       "      <td>9</td>\n",
       "      <td>10</td>\n",
       "      <td>1</td>\n",
       "      <td>...</td>\n",
       "      <td>2</td>\n",
       "      <td>2</td>\n",
       "      <td>97</td>\n",
       "      <td>1</td>\n",
       "      <td>2</td>\n",
       "      <td>7</td>\n",
       "      <td>99</td>\n",
       "      <td>México</td>\n",
       "      <td>97</td>\n",
       "      <td>97</td>\n",
       "    </tr>\n",
       "  </tbody>\n",
       "</table>\n",
       "<p>5 rows × 40 columns</p>\n",
       "</div>"
      ],
      "text/plain": [
       "  Updated Date Registration ID  Origin  Sector  Entity  Sex  Birth Entity  \\\n",
       "0   2022-12-27          10e0db       1      12      20    2            20   \n",
       "1   2022-12-27          0989f5       2      12      14    1            32   \n",
       "2   2022-12-27          01e27d       2       9      25    2            25   \n",
       "3   2022-12-27          180725       2       9       9    2             9   \n",
       "4   2022-12-27          0793b8       2      12       9    2             9   \n",
       "\n",
       "   Residence Entity  Residence Municipality  Patient Type  ... COVID Contact  \\\n",
       "0                20                      67             1  ...             1   \n",
       "1                14                      71             1  ...             2   \n",
       "2                25                       1             1  ...             2   \n",
       "3                 9                      12             2  ...             2   \n",
       "4                 9                      10             1  ...             2   \n",
       "\n",
       "  Lab Sample Sample Result  Antigen Sample  Antigen Result  COVID  Migrant  \\\n",
       "0          2            97               1               2      7       99   \n",
       "1          2            97               1               1      3       99   \n",
       "2          2            97               1               2      7       99   \n",
       "3          2            97               1               2      7       99   \n",
       "4          2            97               1               2      7       99   \n",
       "\n",
       "   Previous Nationality  Previous Origin  ICU  \n",
       "0                México               97   97  \n",
       "1                México               97   97  \n",
       "2                México               97   97  \n",
       "3                México               97    2  \n",
       "4                México               97   97  \n",
       "\n",
       "[5 rows x 40 columns]"
      ]
     },
     "execution_count": 3,
     "metadata": {},
     "output_type": "execute_result"
    }
   ],
   "source": [
    "df2={}\n",
    "df2 = df.rename(columns={\n",
    "    'FECHA_ACTUALIZACION' : 'Updated Date', \n",
    "    'ID_REGISTRO' : 'Registration ID', \n",
    "    'ORIGEN':'Origin', \n",
    "    'SECTOR':'Sector',     \n",
    "    'ENTIDAD_UM': 'Entity', \n",
    "    'SEXO':'Sex', \n",
    "    'ENTIDAD_NAC':'Birth Entity', \n",
    "    'ENTIDAD_RES':'Residence Entity', \n",
    "    'MUNICIPIO_RES':'Residence Municipality', \n",
    "    'TIPO_PACIENTE':'Patient Type', \n",
    "    'FECHA_INGRESO':'Date Entry',    \n",
    "    'FECHA_SINTOMAS':'Date Symptoms', \n",
    "    'FECHA_DEF':'Date Died', \n",
    "    'INTUBADO':'Intubated', \n",
    "    'NEUMONIA':'Pneumonia', \n",
    "    'EDAD':'Age',\n",
    "    'NACIONALIDAD':'Nationality', \n",
    "    'EMBARAZO':'Pregnant', \n",
    "    'HABLA_LENGUA_INDIG':'Language', \n",
    "    'INDIGENA':'Indigenous',   \n",
    "    'DIABETES':'Diabetes', \n",
    "    'EPOC':'COPD', \n",
    "    'ASMA':'Asthma', \n",
    "    'INMUSUPR':'Immunosuppresed', \n",
    "    'HIPERTENSION':'Hypertension', \n",
    "    'OTRA_COM':'Other Disease',\n",
    "    'CARDIOVASCULAR':'Cardiovascular', \n",
    "    'OBESIDAD':'Obesity', \n",
    "    'RENAL_CRONICA':'Chronic Kidney', \n",
    "    'TABAQUISMO':'Tobacco',\n",
    "    'OTRO_CASO':'COVID Contact', \n",
    "    'TOMA_MUESTRA_LAB':'Lab Sample', \n",
    "    'RESULTADO_LAB':'Sample Result',   \n",
    "    'TOMA_MUESTRA_ANTIGENO':'Antigen Sample', \n",
    "    'RESULTADO_ANTIGENO':'Antigen Result', \n",
    "    'CLASIFICACION_FINAL':'COVID', \n",
    "    'MIGRANTE':'Migrant', \n",
    "    'PAIS_NACIONALIDAD':'Previous Nationality',\n",
    "    'PAIS_ORIGEN':'Previous Origin', \n",
    "    'UCI':'ICU'\n",
    "    })\n",
    "\n",
    "df2.head(5)"
   ]
  },
  {
   "cell_type": "code",
   "execution_count": null,
   "id": "278c0bc8",
   "metadata": {
    "scrolled": true
   },
   "outputs": [],
   "source": [
    "df2.nunique()"
   ]
  },
  {
   "cell_type": "markdown",
   "id": "ae635207",
   "metadata": {},
   "source": [
    "I can see here a few things we will have to adjust\n",
    "1. the Updated Date only has one value, so we can drop that\n",
    "2. The registration ID is diffferent for every row, so we might not be needing this either\n",
    "3. Age has 128 different values, that doesnt seem right, we may need to look into this more \n",
    "4. We don't really need the columns stating where the patient came from, as we are wanting to find out where to send supplies would be to where the patient currently is"
   ]
  },
  {
   "cell_type": "code",
   "execution_count": 4,
   "id": "6a401ec7",
   "metadata": {},
   "outputs": [],
   "source": [
    "df2=df2.drop(['Updated Date'], axis=1)"
   ]
  },
  {
   "cell_type": "code",
   "execution_count": null,
   "id": "c81e4e21",
   "metadata": {},
   "outputs": [],
   "source": [
    "df2[df2.duplicated()==True]"
   ]
  },
  {
   "cell_type": "code",
   "execution_count": null,
   "id": "ea723755",
   "metadata": {},
   "outputs": [],
   "source": [
    "missing = pd.concat([df2.isnull().sum(), 100 * df2.isnull().mean()], axis=1)\n",
    "missing.columns=['count','%']\n",
    "missing.sort_values(by='count')"
   ]
  },
  {
   "cell_type": "raw",
   "id": "d08a0035",
   "metadata": {},
   "source": [
    "No missing or duplicated values immediately seen, but this quick search just tells us that there is a value put in every data point. This makes sense as there are 6 million different registration numbers. \n",
    "\n",
    "However, some of the data include:\n",
    "\n",
    "97 is not applicable\n",
    "\n",
    "98 is ignored\n",
    "\n",
    "99 is unspecified\n",
    "\n",
    "and in this case any of these could still be missing data but there was a value to put into the data point to say it is missing"
   ]
  },
  {
   "cell_type": "code",
   "execution_count": 5,
   "id": "08684c26",
   "metadata": {},
   "outputs": [],
   "source": [
    "df2=df2.drop(['Migrant', 'Previous Origin','Birth Entity','Previous Nationality',], axis=1)"
   ]
  },
  {
   "cell_type": "code",
   "execution_count": 6,
   "id": "d18a558f",
   "metadata": {},
   "outputs": [],
   "source": [
    "import numpy as np\n",
    "from scipy import stats "
   ]
  },
  {
   "cell_type": "markdown",
   "id": "ef2f0955",
   "metadata": {},
   "source": [
    "To perform Chi-Square testing to find if there any relationships between our categorical variables \n",
    "Null Hypothesis = No difference or no relationship between \"Classification Final\" ( Whether the patient has COVID) and other features\n",
    "Significnace level = 0.05\n",
    "if P-Value is less than significance level, the hypothesis is rejected, meaning that there could be a relationship between the two features"
   ]
  },
  {
   "cell_type": "code",
   "execution_count": 7,
   "id": "76d651e7",
   "metadata": {},
   "outputs": [
    {
     "name": "stdout",
     "output_type": "stream",
     "text": [
      "OBESIDAD                 1        2      98\n",
      "CLASIFICACION_FINAL                        \n",
      "1                      4200    68968    337\n",
      "2                        39      374      1\n",
      "3                    201261  2852207  11328\n",
      "4                        12      332      0\n",
      "5                       546     8566     27\n",
      "6                     10254   188798    677\n",
      "7                    153059  2818490  11490\n"
     ]
    }
   ],
   "source": [
    "compare = pd.crosstab(df['CLASIFICACION_FINAL'],df['OBESIDAD'])\n",
    "print(compare)"
   ]
  },
  {
   "cell_type": "code",
   "execution_count": 8,
   "id": "2da8ce71",
   "metadata": {},
   "outputs": [
    {
     "name": "stdout",
     "output_type": "stream",
     "text": [
      "Chi_square value: 5902.031143831834 \n",
      "P-Value: 0.0\n",
      "Degrees of Freedom: 12\n",
      "Expected: [[4.28854228e+03 6.89394338e+04 2.77023964e+02]\n",
      " [2.41542276e+01 3.88285499e+02 1.56027374e+00]\n",
      " [1.78811063e+05 2.87443440e+06 1.15505331e+04]\n",
      " [2.00701795e+01 3.22633361e+02 1.29645934e+00]\n",
      " [5.33201658e+02 8.57135549e+03 3.44428544e+01]\n",
      " [1.16528979e+04 1.87323368e+05 7.52734091e+02]\n",
      " [1.74041070e+05 2.79775552e+06 1.12424092e+04]]\n"
     ]
    }
   ],
   "source": [
    "chi2, p, dof, ex=stats.chi2_contingency(compare)\n",
    "print(f'Chi_square value: {chi2} \\nP-Value: {p}\\nDegrees of Freedom: {dof}\\nExpected: {ex}')"
   ]
  },
  {
   "cell_type": "code",
   "execution_count": 9,
   "id": "3b901565",
   "metadata": {},
   "outputs": [],
   "source": [
    "feature=[]\n",
    "pvalue=[]\n",
    "\n",
    "for c in df2.columns:\n",
    "    if(df2[c].dtype == np.int64):\n",
    "        compare = pd.crosstab(df2['COVID'],df2[c])\n",
    "        chi2, p, dof, ex=stats.chi2_contingency(compare)\n",
    "        pvalue.append(p)\n",
    "        feature.append(c)\n",
    "\n",
    "        df_pvalue = pd.DataFrame(list(zip(feature, pvalue)),columns=['feature','pvalue'])"
   ]
  },
  {
   "cell_type": "code",
   "execution_count": 10,
   "id": "2645ad18",
   "metadata": {},
   "outputs": [
    {
     "data": {
      "text/html": [
       "<div>\n",
       "<style scoped>\n",
       "    .dataframe tbody tr th:only-of-type {\n",
       "        vertical-align: middle;\n",
       "    }\n",
       "\n",
       "    .dataframe tbody tr th {\n",
       "        vertical-align: top;\n",
       "    }\n",
       "\n",
       "    .dataframe thead th {\n",
       "        text-align: right;\n",
       "    }\n",
       "</style>\n",
       "<table border=\"1\" class=\"dataframe\">\n",
       "  <thead>\n",
       "    <tr style=\"text-align: right;\">\n",
       "      <th></th>\n",
       "      <th>feature</th>\n",
       "      <th>pvalue</th>\n",
       "    </tr>\n",
       "  </thead>\n",
       "  <tbody>\n",
       "    <tr>\n",
       "      <th>0</th>\n",
       "      <td>Origin</td>\n",
       "      <td>0.000000e+00</td>\n",
       "    </tr>\n",
       "    <tr>\n",
       "      <th>1</th>\n",
       "      <td>Sector</td>\n",
       "      <td>0.000000e+00</td>\n",
       "    </tr>\n",
       "    <tr>\n",
       "      <th>2</th>\n",
       "      <td>Entity</td>\n",
       "      <td>0.000000e+00</td>\n",
       "    </tr>\n",
       "    <tr>\n",
       "      <th>3</th>\n",
       "      <td>Sex</td>\n",
       "      <td>5.231144e-113</td>\n",
       "    </tr>\n",
       "    <tr>\n",
       "      <th>4</th>\n",
       "      <td>Residence Entity</td>\n",
       "      <td>0.000000e+00</td>\n",
       "    </tr>\n",
       "    <tr>\n",
       "      <th>5</th>\n",
       "      <td>Residence Municipality</td>\n",
       "      <td>0.000000e+00</td>\n",
       "    </tr>\n",
       "    <tr>\n",
       "      <th>6</th>\n",
       "      <td>Patient Type</td>\n",
       "      <td>0.000000e+00</td>\n",
       "    </tr>\n",
       "    <tr>\n",
       "      <th>7</th>\n",
       "      <td>Intubated</td>\n",
       "      <td>0.000000e+00</td>\n",
       "    </tr>\n",
       "    <tr>\n",
       "      <th>8</th>\n",
       "      <td>Pneumonia</td>\n",
       "      <td>0.000000e+00</td>\n",
       "    </tr>\n",
       "    <tr>\n",
       "      <th>9</th>\n",
       "      <td>Age</td>\n",
       "      <td>0.000000e+00</td>\n",
       "    </tr>\n",
       "    <tr>\n",
       "      <th>10</th>\n",
       "      <td>Nationality</td>\n",
       "      <td>0.000000e+00</td>\n",
       "    </tr>\n",
       "    <tr>\n",
       "      <th>11</th>\n",
       "      <td>Pregnant</td>\n",
       "      <td>0.000000e+00</td>\n",
       "    </tr>\n",
       "    <tr>\n",
       "      <th>12</th>\n",
       "      <td>Language</td>\n",
       "      <td>0.000000e+00</td>\n",
       "    </tr>\n",
       "    <tr>\n",
       "      <th>13</th>\n",
       "      <td>Indigenous</td>\n",
       "      <td>0.000000e+00</td>\n",
       "    </tr>\n",
       "    <tr>\n",
       "      <th>14</th>\n",
       "      <td>Diabetes</td>\n",
       "      <td>9.396909e-241</td>\n",
       "    </tr>\n",
       "    <tr>\n",
       "      <th>15</th>\n",
       "      <td>COPD</td>\n",
       "      <td>0.000000e+00</td>\n",
       "    </tr>\n",
       "    <tr>\n",
       "      <th>16</th>\n",
       "      <td>Asthma</td>\n",
       "      <td>1.230914e-83</td>\n",
       "    </tr>\n",
       "    <tr>\n",
       "      <th>17</th>\n",
       "      <td>Immunosuppresed</td>\n",
       "      <td>4.555570e-182</td>\n",
       "    </tr>\n",
       "    <tr>\n",
       "      <th>18</th>\n",
       "      <td>Hypertension</td>\n",
       "      <td>0.000000e+00</td>\n",
       "    </tr>\n",
       "    <tr>\n",
       "      <th>19</th>\n",
       "      <td>Other Disease</td>\n",
       "      <td>0.000000e+00</td>\n",
       "    </tr>\n",
       "    <tr>\n",
       "      <th>20</th>\n",
       "      <td>Cardiovascular</td>\n",
       "      <td>2.639891e-291</td>\n",
       "    </tr>\n",
       "    <tr>\n",
       "      <th>21</th>\n",
       "      <td>Obesity</td>\n",
       "      <td>0.000000e+00</td>\n",
       "    </tr>\n",
       "    <tr>\n",
       "      <th>22</th>\n",
       "      <td>Chronic Kidney</td>\n",
       "      <td>0.000000e+00</td>\n",
       "    </tr>\n",
       "    <tr>\n",
       "      <th>23</th>\n",
       "      <td>Tobacco</td>\n",
       "      <td>1.341632e-267</td>\n",
       "    </tr>\n",
       "    <tr>\n",
       "      <th>24</th>\n",
       "      <td>COVID Contact</td>\n",
       "      <td>0.000000e+00</td>\n",
       "    </tr>\n",
       "    <tr>\n",
       "      <th>25</th>\n",
       "      <td>Lab Sample</td>\n",
       "      <td>0.000000e+00</td>\n",
       "    </tr>\n",
       "    <tr>\n",
       "      <th>26</th>\n",
       "      <td>Sample Result</td>\n",
       "      <td>0.000000e+00</td>\n",
       "    </tr>\n",
       "    <tr>\n",
       "      <th>27</th>\n",
       "      <td>Antigen Sample</td>\n",
       "      <td>0.000000e+00</td>\n",
       "    </tr>\n",
       "    <tr>\n",
       "      <th>28</th>\n",
       "      <td>Antigen Result</td>\n",
       "      <td>0.000000e+00</td>\n",
       "    </tr>\n",
       "    <tr>\n",
       "      <th>29</th>\n",
       "      <td>COVID</td>\n",
       "      <td>0.000000e+00</td>\n",
       "    </tr>\n",
       "    <tr>\n",
       "      <th>30</th>\n",
       "      <td>ICU</td>\n",
       "      <td>0.000000e+00</td>\n",
       "    </tr>\n",
       "  </tbody>\n",
       "</table>\n",
       "</div>"
      ],
      "text/plain": [
       "                   feature         pvalue\n",
       "0                   Origin   0.000000e+00\n",
       "1                   Sector   0.000000e+00\n",
       "2                   Entity   0.000000e+00\n",
       "3                      Sex  5.231144e-113\n",
       "4         Residence Entity   0.000000e+00\n",
       "5   Residence Municipality   0.000000e+00\n",
       "6             Patient Type   0.000000e+00\n",
       "7                Intubated   0.000000e+00\n",
       "8                Pneumonia   0.000000e+00\n",
       "9                      Age   0.000000e+00\n",
       "10             Nationality   0.000000e+00\n",
       "11                Pregnant   0.000000e+00\n",
       "12                Language   0.000000e+00\n",
       "13              Indigenous   0.000000e+00\n",
       "14                Diabetes  9.396909e-241\n",
       "15                    COPD   0.000000e+00\n",
       "16                  Asthma   1.230914e-83\n",
       "17         Immunosuppresed  4.555570e-182\n",
       "18            Hypertension   0.000000e+00\n",
       "19           Other Disease   0.000000e+00\n",
       "20          Cardiovascular  2.639891e-291\n",
       "21                 Obesity   0.000000e+00\n",
       "22          Chronic Kidney   0.000000e+00\n",
       "23                 Tobacco  1.341632e-267\n",
       "24           COVID Contact   0.000000e+00\n",
       "25              Lab Sample   0.000000e+00\n",
       "26           Sample Result   0.000000e+00\n",
       "27          Antigen Sample   0.000000e+00\n",
       "28          Antigen Result   0.000000e+00\n",
       "29                   COVID   0.000000e+00\n",
       "30                     ICU   0.000000e+00"
      ]
     },
     "execution_count": 10,
     "metadata": {},
     "output_type": "execute_result"
    }
   ],
   "source": [
    "df_pvalue"
   ]
  },
  {
   "cell_type": "code",
   "execution_count": 11,
   "id": "e1a89d73",
   "metadata": {},
   "outputs": [],
   "source": [
    "from sklearn.feature_selection import SelectKBest\n",
    "from sklearn.feature_selection import chi2\n",
    "from sklearn.preprocessing import StandardScaler\n",
    "from numpy import array"
   ]
  },
  {
   "cell_type": "code",
   "execution_count": 12,
   "id": "4ff08d0d",
   "metadata": {},
   "outputs": [],
   "source": [
    "df3=df2.drop(['Registration ID','Date Entry','Date Symptoms','Date Died'],axis=1)"
   ]
  },
  {
   "cell_type": "code",
   "execution_count": 13,
   "id": "878162bc",
   "metadata": {},
   "outputs": [],
   "source": [
    "y=df3['COVID']\n",
    "X=df3.drop(columns=['COVID'], axis=1)\n",
    "\n",
    "select=SelectKBest(chi2,k=20)"
   ]
  },
  {
   "cell_type": "code",
   "execution_count": 14,
   "id": "dca8948e",
   "metadata": {},
   "outputs": [
    {
     "name": "stdout",
     "output_type": "stream",
     "text": [
      "SelectKBest(k=20, score_func=<function chi2 at 0x000002A6FC1DD4C0>)\n"
     ]
    }
   ],
   "source": [
    "print(select)"
   ]
  },
  {
   "cell_type": "code",
   "execution_count": 16,
   "id": "cbfc0dec",
   "metadata": {},
   "outputs": [],
   "source": [
    "select=select.fit_transform(X,y)"
   ]
  },
  {
   "cell_type": "code",
   "execution_count": 18,
   "id": "286ba9ab",
   "metadata": {},
   "outputs": [
    {
     "name": "stdout",
     "output_type": "stream",
     "text": [
      "[[ 1 12 20 ...  1  2 97]\n",
      " [ 2 12 14 ...  1  1 97]\n",
      " [ 2  9 25 ...  1  2 97]\n",
      " ...\n",
      " [ 2 12 15 ...  2 97 97]\n",
      " [ 2 12 15 ...  2 97 97]\n",
      " [ 2 12 15 ...  2 97 97]]\n"
     ]
    }
   ],
   "source": [
    "print(select)"
   ]
  },
  {
   "cell_type": "code",
   "execution_count": 21,
   "id": "0adfa07a",
   "metadata": {},
   "outputs": [
    {
     "data": {
      "text/plain": [
       "array([[ 1, 12, 20, ...,  1,  2, 97],\n",
       "       [ 2, 12, 14, ...,  1,  1, 97],\n",
       "       [ 2,  9, 25, ...,  1,  2, 97],\n",
       "       ...,\n",
       "       [ 2, 12, 15, ...,  2, 97, 97],\n",
       "       [ 2, 12, 15, ...,  2, 97, 97],\n",
       "       [ 2, 12, 15, ...,  2, 97, 97]], dtype=int64)"
      ]
     },
     "execution_count": 21,
     "metadata": {},
     "output_type": "execute_result"
    }
   ],
   "source": [
    "select"
   ]
  },
  {
   "cell_type": "code",
   "execution_count": null,
   "id": "985e5cc3",
   "metadata": {},
   "outputs": [],
   "source": []
  },
  {
   "cell_type": "code",
   "execution_count": null,
   "id": "2bc1186b",
   "metadata": {},
   "outputs": [],
   "source": [
    "df2['Date Died'].value_counts()"
   ]
  },
  {
   "cell_type": "code",
   "execution_count": null,
   "id": "cec5789f",
   "metadata": {},
   "outputs": [],
   "source": [
    "df2['Death'] = [0 if each==\"9999-99-99\" else 1 for each in df2['Date Died']]"
   ]
  },
  {
   "cell_type": "markdown",
   "id": "9d154c3d",
   "metadata": {},
   "source": [
    "0 - person is still alive\n",
    "1 - person has a death date, has died"
   ]
  },
  {
   "cell_type": "code",
   "execution_count": null,
   "id": "85650a70",
   "metadata": {},
   "outputs": [],
   "source": [
    "ax = sns.countplot(df2['Death']);\n",
    "abs_values = df2['Death'].value_counts(ascending=False).values\n",
    "ax.bar_label(container=ax.containers[0], labels=abs_values)\n",
    "plt.show()"
   ]
  },
  {
   "cell_type": "code",
   "execution_count": null,
   "id": "e3950f8c",
   "metadata": {},
   "outputs": [],
   "source": [
    "df2['Date Symptoms'].value_counts()"
   ]
  },
  {
   "cell_type": "code",
   "execution_count": null,
   "id": "3d9d893a",
   "metadata": {},
   "outputs": [],
   "source": [
    "plt.figure(figsize=(10,5))\n",
    "sns.histplot(x=df2['Date Symptoms'])\n",
    "plt.title(\"Number of Cases each Date symptoms\");"
   ]
  },
  {
   "cell_type": "markdown",
   "id": "ba26ad80",
   "metadata": {},
   "source": []
  },
  {
   "cell_type": "markdown",
   "id": "7d7ea8c9",
   "metadata": {},
   "source": [
    "bar chart of date symptoms\n",
    "then stacking chart on positive vs negative "
   ]
  },
  {
   "cell_type": "code",
   "execution_count": null,
   "id": "15914f27",
   "metadata": {},
   "outputs": [],
   "source": [
    "df2['Age'].value_counts()"
   ]
  },
  {
   "cell_type": "code",
   "execution_count": null,
   "id": "b598a14d",
   "metadata": {},
   "outputs": [],
   "source": [
    "df2['Age'].value_counts(ascending=True).head(20)"
   ]
  },
  {
   "cell_type": "markdown",
   "id": "f5743d71",
   "metadata": {},
   "source": [
    "looking at various news articles, the oldest men and women across the world were recorded to be about 110s-120s\n",
    "\n",
    "Mexico Life expectancy is about 77-78 years "
   ]
  },
  {
   "cell_type": "code",
   "execution_count": null,
   "id": "1d64ab4d",
   "metadata": {},
   "outputs": [],
   "source": [
    "df2=df2[df2['Age']<130]"
   ]
  },
  {
   "cell_type": "code",
   "execution_count": null,
   "id": "3b860e3e",
   "metadata": {},
   "outputs": [],
   "source": [
    "df2['Age'].value_counts(ascending=True)"
   ]
  },
  {
   "cell_type": "code",
   "execution_count": null,
   "id": "8ba280b3",
   "metadata": {},
   "outputs": [],
   "source": [
    "plt.figure(figsize=(10,5))\n",
    "sns.histplot(x=df2['Age'])\n",
    "plt.axvline(df2['Age'].median(), color='red')\n",
    "plt.title(\"Age Distribution\");"
   ]
  },
  {
   "cell_type": "code",
   "execution_count": null,
   "id": "0aef4d5c",
   "metadata": {},
   "outputs": [],
   "source": [
    "# Boxplots of AGE by SURVIVED status\n",
    "AGE_SURVIVED = df2[df2.Death == 0].Age\n",
    "AGE_DIED = df2[df2.Death == 1].Age\n",
    "plt.boxplot(x=[AGE_SURVIVED, AGE_DIED], labels=['SURVIVED (0)', 'DIED (1)'])\n",
    "plt.ylabel(\"AGE\")\n",
    "plt.title(\"Boxplots of AGE by SURVIVED status\")\n",
    "plt.show()\n",
    "\n",
    "# Mean age for each group\n",
    "print(\"\\nMean age of all patients: {} years\".format(round(sum(df2.Age) / \n",
    "                                                    len(df2.Age), 1)))\n",
    "print(\"\\nMean age of those who survived: {} years\".format(round(sum(df2[df2.Death == 0].Age) /   \n",
    "                                                                len(df2[df2.Death == 0].Age), 1)))\n",
    "print(\"\\nMean age of those who died: {} years\".format(round(sum(df2[df2.Death == 1].Age) / \n",
    "                                                    len(df2[df2.Death == 1].Age), 1)))"
   ]
  },
  {
   "cell_type": "code",
   "execution_count": null,
   "id": "cd80fe43",
   "metadata": {},
   "outputs": [],
   "source": [
    "# Check how many people actually tested positive\n",
    "percent_positive = round(sum(df2['COVID'] < 4) / len(df2['COVID']), 3) * 100\n",
    "print(\"{}% of patients tested positive for COVID in the original dataset.\".format(percent_positive))\n",
    "\n",
    "# Only 37% of patients tested positive. Only keep these patients in the data\n",
    "positive = df2[df2['COVID'] < 4]\n",
    "print(positive.shape)\n"
   ]
  },
  {
   "cell_type": "code",
   "execution_count": null,
   "id": "cab78ece",
   "metadata": {},
   "outputs": [],
   "source": [
    "# Rename DATE_DIED as SURVIVED\n",
    "#train_COVID.rename(columns={'DATE_DIED': 'SURVIVED'}, inplace=True)\n",
    "\n",
    "# Number of people who survived / died and their percentages\n",
    "survived = sum(df2['Death'] == 0)\n",
    "survived_percent = round(survived / len(df2['Death']), 3) * 100\n",
    "died = sum(df2['Death'] == 1)\n",
    "died_percent = round(died /len(df2['Death']), 3) * 100\n",
    "\n",
    "print(\"{} people ({}%) survived COVID-19 infection.\".format(survived, survived_percent))\n",
    "print(\"{} people ({}%) died of COVID-19 infection.\".format(died, died_percent))"
   ]
  },
  {
   "cell_type": "code",
   "execution_count": null,
   "id": "10614a81",
   "metadata": {},
   "outputs": [],
   "source": [
    "Age and dead"
   ]
  },
  {
   "cell_type": "code",
   "execution_count": null,
   "id": "cf2ca5f3",
   "metadata": {},
   "outputs": [],
   "source": [
    "x = \n",
    "y1 =\n",
    "y2 = \n",
    "\n",
    "plt.bar(x,y1, color='r')\n",
    "plt.bar(x,y2,bottom=y1,color='b')\n",
    "plt.show()"
   ]
  },
  {
   "cell_type": "code",
   "execution_count": null,
   "id": "5f35bbf2",
   "metadata": {},
   "outputs": [],
   "source": []
  },
  {
   "cell_type": "code",
   "execution_count": null,
   "id": "36b1cbfa",
   "metadata": {},
   "outputs": [],
   "source": []
  },
  {
   "cell_type": "code",
   "execution_count": null,
   "id": "9355b9f1",
   "metadata": {},
   "outputs": [],
   "source": []
  },
  {
   "cell_type": "code",
   "execution_count": null,
   "id": "c52dc4a9",
   "metadata": {},
   "outputs": [],
   "source": [
    "corr=df.corr()\n",
    "corr.style.backgound_gradient(cmap='coolwarm')"
   ]
  },
  {
   "cell_type": "code",
   "execution_count": null,
   "id": "f8fb212b",
   "metadata": {},
   "outputs": [],
   "source": [
    "#Find out if a patient is high risk or not\n",
    "hr=df["
   ]
  },
  {
   "cell_type": "code",
   "execution_count": null,
   "id": "0d949ab0",
   "metadata": {},
   "outputs": [],
   "source": [
    "hr.head()"
   ]
  },
  {
   "cell_type": "code",
   "execution_count": null,
   "id": "52dcd64b",
   "metadata": {},
   "outputs": [],
   "source": [
    "for col in df2:\n",
    "    print(df2[col].unique())"
   ]
  },
  {
   "cell_type": "code",
   "execution_count": null,
   "id": "88d31107",
   "metadata": {},
   "outputs": [],
   "source": []
  },
  {
   "cell_type": "code",
   "execution_count": null,
   "id": "efd80837",
   "metadata": {},
   "outputs": [],
   "source": [
    "for c in df2.columns:\n",
    "   if len(df2[c].unique()) >= 3 and len(df2[c].unique()) <=10:\n",
    "        print(df2[c].value_counts(normalize=True))"
   ]
  },
  {
   "cell_type": "code",
   "execution_count": null,
   "id": "a123ba11",
   "metadata": {},
   "outputs": [],
   "source": []
  }
 ],
 "metadata": {
  "kernelspec": {
   "display_name": "Python 3 (ipykernel)",
   "language": "python",
   "name": "python3"
  },
  "language_info": {
   "codemirror_mode": {
    "name": "ipython",
    "version": 3
   },
   "file_extension": ".py",
   "mimetype": "text/x-python",
   "name": "python",
   "nbconvert_exporter": "python",
   "pygments_lexer": "ipython3",
   "version": "3.9.7"
  }
 },
 "nbformat": 4,
 "nbformat_minor": 5
}
