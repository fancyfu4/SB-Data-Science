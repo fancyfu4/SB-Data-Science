{
 "cells": [
  {
   "cell_type": "markdown",
   "id": "4ba43047",
   "metadata": {},
   "source": [
    "# Data Wrangling"
   ]
  },
  {
   "cell_type": "markdown",
   "id": "f59dd204",
   "metadata": {},
   "source": [
    "In this project, I will be looking at COVID information from Mexico to predict high risk patients and then find where the best locations to send supplies. "
   ]
  },
  {
   "cell_type": "markdown",
   "id": "780c1a6f",
   "metadata": {},
   "source": [
    "This data was found on Kaggle and originates from the Mexican Government General Directorate of Epidemiology\n",
    "\n",
    "(https://www.kaggle.com/datasets/marianarfranklin/mexico-covid19-clinical-data)\n",
    "\n",
    "(https://www.gob.mx/salud/documentos/datos-abiertos-152127)"
   ]
  },
  {
   "cell_type": "code",
   "execution_count": 1,
   "id": "3fda725e",
   "metadata": {},
   "outputs": [],
   "source": [
    "#Import Libraries\n",
    "\n",
    "import pandas as pd\n",
    "import matplotlib.pyplot as plt\n",
    "import seaborn as sns\n",
    "import numpy as np"
   ]
  },
  {
   "cell_type": "code",
   "execution_count": 2,
   "id": "53687af5",
   "metadata": {},
   "outputs": [
    {
     "name": "stderr",
     "output_type": "stream",
     "text": [
      "C:\\Users\\aykal\\AppData\\Local\\Temp\\ipykernel_21824\\3336534998.py:1: DtypeWarning: Columns (38) have mixed types. Specify dtype option on import or set low_memory=False.\n",
      "  df=pd.read_csv('221227COVID19MEXICO.csv')\n"
     ]
    }
   ],
   "source": [
    "df=pd.read_csv('221227COVID19MEXICO.csv')"
   ]
  },
  {
   "cell_type": "code",
   "execution_count": 3,
   "id": "6b037a05",
   "metadata": {
    "scrolled": true
   },
   "outputs": [
    {
     "name": "stdout",
     "output_type": "stream",
     "text": [
      "<class 'pandas.core.frame.DataFrame'>\n",
      "RangeIndex: 6330966 entries, 0 to 6330965\n",
      "Data columns (total 40 columns):\n",
      " #   Column                 Dtype \n",
      "---  ------                 ----- \n",
      " 0   FECHA_ACTUALIZACION    object\n",
      " 1   ID_REGISTRO            object\n",
      " 2   ORIGEN                 int64 \n",
      " 3   SECTOR                 int64 \n",
      " 4   ENTIDAD_UM             int64 \n",
      " 5   SEXO                   int64 \n",
      " 6   ENTIDAD_NAC            int64 \n",
      " 7   ENTIDAD_RES            int64 \n",
      " 8   MUNICIPIO_RES          int64 \n",
      " 9   TIPO_PACIENTE          int64 \n",
      " 10  FECHA_INGRESO          object\n",
      " 11  FECHA_SINTOMAS         object\n",
      " 12  FECHA_DEF              object\n",
      " 13  INTUBADO               int64 \n",
      " 14  NEUMONIA               int64 \n",
      " 15  EDAD                   int64 \n",
      " 16  NACIONALIDAD           int64 \n",
      " 17  EMBARAZO               int64 \n",
      " 18  HABLA_LENGUA_INDIG     int64 \n",
      " 19  INDIGENA               int64 \n",
      " 20  DIABETES               int64 \n",
      " 21  EPOC                   int64 \n",
      " 22  ASMA                   int64 \n",
      " 23  INMUSUPR               int64 \n",
      " 24  HIPERTENSION           int64 \n",
      " 25  OTRA_COM               int64 \n",
      " 26  CARDIOVASCULAR         int64 \n",
      " 27  OBESIDAD               int64 \n",
      " 28  RENAL_CRONICA          int64 \n",
      " 29  TABAQUISMO             int64 \n",
      " 30  OTRO_CASO              int64 \n",
      " 31  TOMA_MUESTRA_LAB       int64 \n",
      " 32  RESULTADO_LAB          int64 \n",
      " 33  TOMA_MUESTRA_ANTIGENO  int64 \n",
      " 34  RESULTADO_ANTIGENO     int64 \n",
      " 35  CLASIFICACION_FINAL    int64 \n",
      " 36  MIGRANTE               int64 \n",
      " 37  PAIS_NACIONALIDAD      object\n",
      " 38  PAIS_ORIGEN            object\n",
      " 39  UCI                    int64 \n",
      "dtypes: int64(33), object(7)\n",
      "memory usage: 1.9+ GB\n"
     ]
    }
   ],
   "source": [
    "df.info()"
   ]
  },
  {
   "cell_type": "markdown",
   "id": "01586e30",
   "metadata": {},
   "source": [
    "This project starts out with 6330966 rows and 40 columns"
   ]
  },
  {
   "cell_type": "code",
   "execution_count": 4,
   "id": "938dc672",
   "metadata": {
    "scrolled": true
   },
   "outputs": [
    {
     "data": {
      "text/html": [
       "<div>\n",
       "<style scoped>\n",
       "    .dataframe tbody tr th:only-of-type {\n",
       "        vertical-align: middle;\n",
       "    }\n",
       "\n",
       "    .dataframe tbody tr th {\n",
       "        vertical-align: top;\n",
       "    }\n",
       "\n",
       "    .dataframe thead th {\n",
       "        text-align: right;\n",
       "    }\n",
       "</style>\n",
       "<table border=\"1\" class=\"dataframe\">\n",
       "  <thead>\n",
       "    <tr style=\"text-align: right;\">\n",
       "      <th></th>\n",
       "      <th>FECHA_ACTUALIZACION</th>\n",
       "      <th>ID_REGISTRO</th>\n",
       "      <th>ORIGEN</th>\n",
       "      <th>SECTOR</th>\n",
       "      <th>ENTIDAD_UM</th>\n",
       "      <th>SEXO</th>\n",
       "      <th>ENTIDAD_NAC</th>\n",
       "      <th>ENTIDAD_RES</th>\n",
       "      <th>MUNICIPIO_RES</th>\n",
       "      <th>TIPO_PACIENTE</th>\n",
       "      <th>...</th>\n",
       "      <th>OTRO_CASO</th>\n",
       "      <th>TOMA_MUESTRA_LAB</th>\n",
       "      <th>RESULTADO_LAB</th>\n",
       "      <th>TOMA_MUESTRA_ANTIGENO</th>\n",
       "      <th>RESULTADO_ANTIGENO</th>\n",
       "      <th>CLASIFICACION_FINAL</th>\n",
       "      <th>MIGRANTE</th>\n",
       "      <th>PAIS_NACIONALIDAD</th>\n",
       "      <th>PAIS_ORIGEN</th>\n",
       "      <th>UCI</th>\n",
       "    </tr>\n",
       "  </thead>\n",
       "  <tbody>\n",
       "    <tr>\n",
       "      <th>0</th>\n",
       "      <td>2022-12-27</td>\n",
       "      <td>10e0db</td>\n",
       "      <td>1</td>\n",
       "      <td>12</td>\n",
       "      <td>20</td>\n",
       "      <td>2</td>\n",
       "      <td>20</td>\n",
       "      <td>20</td>\n",
       "      <td>67</td>\n",
       "      <td>1</td>\n",
       "      <td>...</td>\n",
       "      <td>1</td>\n",
       "      <td>2</td>\n",
       "      <td>97</td>\n",
       "      <td>1</td>\n",
       "      <td>2</td>\n",
       "      <td>7</td>\n",
       "      <td>99</td>\n",
       "      <td>México</td>\n",
       "      <td>97</td>\n",
       "      <td>97</td>\n",
       "    </tr>\n",
       "    <tr>\n",
       "      <th>1</th>\n",
       "      <td>2022-12-27</td>\n",
       "      <td>0989f5</td>\n",
       "      <td>2</td>\n",
       "      <td>12</td>\n",
       "      <td>14</td>\n",
       "      <td>1</td>\n",
       "      <td>32</td>\n",
       "      <td>14</td>\n",
       "      <td>71</td>\n",
       "      <td>1</td>\n",
       "      <td>...</td>\n",
       "      <td>2</td>\n",
       "      <td>2</td>\n",
       "      <td>97</td>\n",
       "      <td>1</td>\n",
       "      <td>1</td>\n",
       "      <td>3</td>\n",
       "      <td>99</td>\n",
       "      <td>México</td>\n",
       "      <td>97</td>\n",
       "      <td>97</td>\n",
       "    </tr>\n",
       "    <tr>\n",
       "      <th>2</th>\n",
       "      <td>2022-12-27</td>\n",
       "      <td>01e27d</td>\n",
       "      <td>2</td>\n",
       "      <td>9</td>\n",
       "      <td>25</td>\n",
       "      <td>2</td>\n",
       "      <td>25</td>\n",
       "      <td>25</td>\n",
       "      <td>1</td>\n",
       "      <td>1</td>\n",
       "      <td>...</td>\n",
       "      <td>2</td>\n",
       "      <td>2</td>\n",
       "      <td>97</td>\n",
       "      <td>1</td>\n",
       "      <td>2</td>\n",
       "      <td>7</td>\n",
       "      <td>99</td>\n",
       "      <td>México</td>\n",
       "      <td>97</td>\n",
       "      <td>97</td>\n",
       "    </tr>\n",
       "    <tr>\n",
       "      <th>3</th>\n",
       "      <td>2022-12-27</td>\n",
       "      <td>180725</td>\n",
       "      <td>2</td>\n",
       "      <td>9</td>\n",
       "      <td>9</td>\n",
       "      <td>2</td>\n",
       "      <td>9</td>\n",
       "      <td>9</td>\n",
       "      <td>12</td>\n",
       "      <td>2</td>\n",
       "      <td>...</td>\n",
       "      <td>2</td>\n",
       "      <td>2</td>\n",
       "      <td>97</td>\n",
       "      <td>1</td>\n",
       "      <td>2</td>\n",
       "      <td>7</td>\n",
       "      <td>99</td>\n",
       "      <td>México</td>\n",
       "      <td>97</td>\n",
       "      <td>2</td>\n",
       "    </tr>\n",
       "    <tr>\n",
       "      <th>4</th>\n",
       "      <td>2022-12-27</td>\n",
       "      <td>0793b8</td>\n",
       "      <td>2</td>\n",
       "      <td>12</td>\n",
       "      <td>9</td>\n",
       "      <td>2</td>\n",
       "      <td>9</td>\n",
       "      <td>9</td>\n",
       "      <td>10</td>\n",
       "      <td>1</td>\n",
       "      <td>...</td>\n",
       "      <td>2</td>\n",
       "      <td>2</td>\n",
       "      <td>97</td>\n",
       "      <td>1</td>\n",
       "      <td>2</td>\n",
       "      <td>7</td>\n",
       "      <td>99</td>\n",
       "      <td>México</td>\n",
       "      <td>97</td>\n",
       "      <td>97</td>\n",
       "    </tr>\n",
       "  </tbody>\n",
       "</table>\n",
       "<p>5 rows × 40 columns</p>\n",
       "</div>"
      ],
      "text/plain": [
       "  FECHA_ACTUALIZACION ID_REGISTRO  ORIGEN  SECTOR  ENTIDAD_UM  SEXO  \\\n",
       "0          2022-12-27      10e0db       1      12          20     2   \n",
       "1          2022-12-27      0989f5       2      12          14     1   \n",
       "2          2022-12-27      01e27d       2       9          25     2   \n",
       "3          2022-12-27      180725       2       9           9     2   \n",
       "4          2022-12-27      0793b8       2      12           9     2   \n",
       "\n",
       "   ENTIDAD_NAC  ENTIDAD_RES  MUNICIPIO_RES  TIPO_PACIENTE  ... OTRO_CASO  \\\n",
       "0           20           20             67              1  ...         1   \n",
       "1           32           14             71              1  ...         2   \n",
       "2           25           25              1              1  ...         2   \n",
       "3            9            9             12              2  ...         2   \n",
       "4            9            9             10              1  ...         2   \n",
       "\n",
       "  TOMA_MUESTRA_LAB RESULTADO_LAB  TOMA_MUESTRA_ANTIGENO  RESULTADO_ANTIGENO  \\\n",
       "0                2            97                      1                   2   \n",
       "1                2            97                      1                   1   \n",
       "2                2            97                      1                   2   \n",
       "3                2            97                      1                   2   \n",
       "4                2            97                      1                   2   \n",
       "\n",
       "   CLASIFICACION_FINAL  MIGRANTE  PAIS_NACIONALIDAD  PAIS_ORIGEN  UCI  \n",
       "0                    7        99             México           97   97  \n",
       "1                    3        99             México           97   97  \n",
       "2                    7        99             México           97   97  \n",
       "3                    7        99             México           97    2  \n",
       "4                    7        99             México           97   97  \n",
       "\n",
       "[5 rows x 40 columns]"
      ]
     },
     "execution_count": 4,
     "metadata": {},
     "output_type": "execute_result"
    }
   ],
   "source": [
    "df.head(5)"
   ]
  },
  {
   "cell_type": "code",
   "execution_count": 5,
   "id": "9303bded",
   "metadata": {},
   "outputs": [
    {
     "data": {
      "text/plain": [
       "array(['FECHA_ACTUALIZACION', 'ID_REGISTRO', 'ORIGEN', 'SECTOR',\n",
       "       'ENTIDAD_UM', 'SEXO', 'ENTIDAD_NAC', 'ENTIDAD_RES',\n",
       "       'MUNICIPIO_RES', 'TIPO_PACIENTE', 'FECHA_INGRESO',\n",
       "       'FECHA_SINTOMAS', 'FECHA_DEF', 'INTUBADO', 'NEUMONIA', 'EDAD',\n",
       "       'NACIONALIDAD', 'EMBARAZO', 'HABLA_LENGUA_INDIG', 'INDIGENA',\n",
       "       'DIABETES', 'EPOC', 'ASMA', 'INMUSUPR', 'HIPERTENSION', 'OTRA_COM',\n",
       "       'CARDIOVASCULAR', 'OBESIDAD', 'RENAL_CRONICA', 'TABAQUISMO',\n",
       "       'OTRO_CASO', 'TOMA_MUESTRA_LAB', 'RESULTADO_LAB',\n",
       "       'TOMA_MUESTRA_ANTIGENO', 'RESULTADO_ANTIGENO',\n",
       "       'CLASIFICACION_FINAL', 'MIGRANTE', 'PAIS_NACIONALIDAD',\n",
       "       'PAIS_ORIGEN', 'UCI'], dtype=object)"
      ]
     },
     "execution_count": 5,
     "metadata": {},
     "output_type": "execute_result"
    }
   ],
   "source": [
    "cols = df.columns.values\n",
    "cols"
   ]
  },
  {
   "cell_type": "markdown",
   "id": "17646619",
   "metadata": {},
   "source": [
    "I will rename the data to make it easier to refer back to each column and know what they are for. "
   ]
  },
  {
   "cell_type": "code",
   "execution_count": 6,
   "id": "12e39f39",
   "metadata": {},
   "outputs": [
    {
     "data": {
      "text/html": [
       "<div>\n",
       "<style scoped>\n",
       "    .dataframe tbody tr th:only-of-type {\n",
       "        vertical-align: middle;\n",
       "    }\n",
       "\n",
       "    .dataframe tbody tr th {\n",
       "        vertical-align: top;\n",
       "    }\n",
       "\n",
       "    .dataframe thead th {\n",
       "        text-align: right;\n",
       "    }\n",
       "</style>\n",
       "<table border=\"1\" class=\"dataframe\">\n",
       "  <thead>\n",
       "    <tr style=\"text-align: right;\">\n",
       "      <th></th>\n",
       "      <th>Updated Date</th>\n",
       "      <th>Registration ID</th>\n",
       "      <th>Origin</th>\n",
       "      <th>Sector</th>\n",
       "      <th>Entity</th>\n",
       "      <th>Sex</th>\n",
       "      <th>Birth Entity</th>\n",
       "      <th>Residence Entity</th>\n",
       "      <th>Residence Municipality</th>\n",
       "      <th>Patient Type</th>\n",
       "      <th>...</th>\n",
       "      <th>COVID Contact</th>\n",
       "      <th>Lab Sample</th>\n",
       "      <th>Sample Result</th>\n",
       "      <th>Antigen Sample</th>\n",
       "      <th>Antigen Result</th>\n",
       "      <th>COVID</th>\n",
       "      <th>Migrant</th>\n",
       "      <th>Previous Nationality</th>\n",
       "      <th>Previous Origin</th>\n",
       "      <th>ICU</th>\n",
       "    </tr>\n",
       "  </thead>\n",
       "  <tbody>\n",
       "    <tr>\n",
       "      <th>0</th>\n",
       "      <td>2022-12-27</td>\n",
       "      <td>10e0db</td>\n",
       "      <td>1</td>\n",
       "      <td>12</td>\n",
       "      <td>20</td>\n",
       "      <td>2</td>\n",
       "      <td>20</td>\n",
       "      <td>20</td>\n",
       "      <td>67</td>\n",
       "      <td>1</td>\n",
       "      <td>...</td>\n",
       "      <td>1</td>\n",
       "      <td>2</td>\n",
       "      <td>97</td>\n",
       "      <td>1</td>\n",
       "      <td>2</td>\n",
       "      <td>7</td>\n",
       "      <td>99</td>\n",
       "      <td>México</td>\n",
       "      <td>97</td>\n",
       "      <td>97</td>\n",
       "    </tr>\n",
       "    <tr>\n",
       "      <th>1</th>\n",
       "      <td>2022-12-27</td>\n",
       "      <td>0989f5</td>\n",
       "      <td>2</td>\n",
       "      <td>12</td>\n",
       "      <td>14</td>\n",
       "      <td>1</td>\n",
       "      <td>32</td>\n",
       "      <td>14</td>\n",
       "      <td>71</td>\n",
       "      <td>1</td>\n",
       "      <td>...</td>\n",
       "      <td>2</td>\n",
       "      <td>2</td>\n",
       "      <td>97</td>\n",
       "      <td>1</td>\n",
       "      <td>1</td>\n",
       "      <td>3</td>\n",
       "      <td>99</td>\n",
       "      <td>México</td>\n",
       "      <td>97</td>\n",
       "      <td>97</td>\n",
       "    </tr>\n",
       "    <tr>\n",
       "      <th>2</th>\n",
       "      <td>2022-12-27</td>\n",
       "      <td>01e27d</td>\n",
       "      <td>2</td>\n",
       "      <td>9</td>\n",
       "      <td>25</td>\n",
       "      <td>2</td>\n",
       "      <td>25</td>\n",
       "      <td>25</td>\n",
       "      <td>1</td>\n",
       "      <td>1</td>\n",
       "      <td>...</td>\n",
       "      <td>2</td>\n",
       "      <td>2</td>\n",
       "      <td>97</td>\n",
       "      <td>1</td>\n",
       "      <td>2</td>\n",
       "      <td>7</td>\n",
       "      <td>99</td>\n",
       "      <td>México</td>\n",
       "      <td>97</td>\n",
       "      <td>97</td>\n",
       "    </tr>\n",
       "    <tr>\n",
       "      <th>3</th>\n",
       "      <td>2022-12-27</td>\n",
       "      <td>180725</td>\n",
       "      <td>2</td>\n",
       "      <td>9</td>\n",
       "      <td>9</td>\n",
       "      <td>2</td>\n",
       "      <td>9</td>\n",
       "      <td>9</td>\n",
       "      <td>12</td>\n",
       "      <td>2</td>\n",
       "      <td>...</td>\n",
       "      <td>2</td>\n",
       "      <td>2</td>\n",
       "      <td>97</td>\n",
       "      <td>1</td>\n",
       "      <td>2</td>\n",
       "      <td>7</td>\n",
       "      <td>99</td>\n",
       "      <td>México</td>\n",
       "      <td>97</td>\n",
       "      <td>2</td>\n",
       "    </tr>\n",
       "    <tr>\n",
       "      <th>4</th>\n",
       "      <td>2022-12-27</td>\n",
       "      <td>0793b8</td>\n",
       "      <td>2</td>\n",
       "      <td>12</td>\n",
       "      <td>9</td>\n",
       "      <td>2</td>\n",
       "      <td>9</td>\n",
       "      <td>9</td>\n",
       "      <td>10</td>\n",
       "      <td>1</td>\n",
       "      <td>...</td>\n",
       "      <td>2</td>\n",
       "      <td>2</td>\n",
       "      <td>97</td>\n",
       "      <td>1</td>\n",
       "      <td>2</td>\n",
       "      <td>7</td>\n",
       "      <td>99</td>\n",
       "      <td>México</td>\n",
       "      <td>97</td>\n",
       "      <td>97</td>\n",
       "    </tr>\n",
       "  </tbody>\n",
       "</table>\n",
       "<p>5 rows × 40 columns</p>\n",
       "</div>"
      ],
      "text/plain": [
       "  Updated Date Registration ID  Origin  Sector  Entity  Sex  Birth Entity  \\\n",
       "0   2022-12-27          10e0db       1      12      20    2            20   \n",
       "1   2022-12-27          0989f5       2      12      14    1            32   \n",
       "2   2022-12-27          01e27d       2       9      25    2            25   \n",
       "3   2022-12-27          180725       2       9       9    2             9   \n",
       "4   2022-12-27          0793b8       2      12       9    2             9   \n",
       "\n",
       "   Residence Entity  Residence Municipality  Patient Type  ... COVID Contact  \\\n",
       "0                20                      67             1  ...             1   \n",
       "1                14                      71             1  ...             2   \n",
       "2                25                       1             1  ...             2   \n",
       "3                 9                      12             2  ...             2   \n",
       "4                 9                      10             1  ...             2   \n",
       "\n",
       "  Lab Sample Sample Result  Antigen Sample  Antigen Result  COVID  Migrant  \\\n",
       "0          2            97               1               2      7       99   \n",
       "1          2            97               1               1      3       99   \n",
       "2          2            97               1               2      7       99   \n",
       "3          2            97               1               2      7       99   \n",
       "4          2            97               1               2      7       99   \n",
       "\n",
       "   Previous Nationality  Previous Origin  ICU  \n",
       "0                México               97   97  \n",
       "1                México               97   97  \n",
       "2                México               97   97  \n",
       "3                México               97    2  \n",
       "4                México               97   97  \n",
       "\n",
       "[5 rows x 40 columns]"
      ]
     },
     "execution_count": 6,
     "metadata": {},
     "output_type": "execute_result"
    }
   ],
   "source": [
    "df2={}\n",
    "df2 = df.rename(columns={\n",
    "    'FECHA_ACTUALIZACION' : 'Updated Date', \n",
    "    'ID_REGISTRO' : 'Registration ID', \n",
    "    'ORIGEN':'Origin', \n",
    "    'SECTOR':'Sector',     \n",
    "    'ENTIDAD_UM': 'Entity', \n",
    "    'SEXO':'Sex', \n",
    "    'ENTIDAD_NAC':'Birth Entity', \n",
    "    'ENTIDAD_RES':'Residence Entity', \n",
    "    'MUNICIPIO_RES':'Residence Municipality', \n",
    "    'TIPO_PACIENTE':'Patient Type', \n",
    "    'FECHA_INGRESO':'Date Entry',    \n",
    "    'FECHA_SINTOMAS':'Date Symptoms', \n",
    "    'FECHA_DEF':'Date Died', \n",
    "    'INTUBADO':'Intubated', \n",
    "    'NEUMONIA':'Pneumonia', \n",
    "    'EDAD':'Age',\n",
    "    'NACIONALIDAD':'Nationality', \n",
    "    'EMBARAZO':'Pregnant', \n",
    "    'HABLA_LENGUA_INDIG':'Language', \n",
    "    'INDIGENA':'Indigenous',   \n",
    "    'DIABETES':'Diabetes', \n",
    "    'EPOC':'COPD', \n",
    "    'ASMA':'Asthma', \n",
    "    'INMUSUPR':'Immunosuppresed', \n",
    "    'HIPERTENSION':'Hypertension', \n",
    "    'OTRA_COM':'Other Disease',\n",
    "    'CARDIOVASCULAR':'Cardiovascular', \n",
    "    'OBESIDAD':'Obesity', \n",
    "    'RENAL_CRONICA':'Chronic Kidney', \n",
    "    'TABAQUISMO':'Tobacco',\n",
    "    'OTRO_CASO':'COVID Contact', \n",
    "    'TOMA_MUESTRA_LAB':'Lab Sample', \n",
    "    'RESULTADO_LAB':'Sample Result',   \n",
    "    'TOMA_MUESTRA_ANTIGENO':'Antigen Sample', \n",
    "    'RESULTADO_ANTIGENO':'Antigen Result', \n",
    "    'CLASIFICACION_FINAL':'COVID', \n",
    "    'MIGRANTE':'Migrant', \n",
    "    'PAIS_NACIONALIDAD':'Previous Nationality',\n",
    "    'PAIS_ORIGEN':'Previous Origin', \n",
    "    'UCI':'ICU'\n",
    "    })\n",
    "\n",
    "df2.head(5)"
   ]
  },
  {
   "cell_type": "code",
   "execution_count": 7,
   "id": "278c0bc8",
   "metadata": {
    "scrolled": true
   },
   "outputs": [
    {
     "data": {
      "text/plain": [
       "Updated Date                    1\n",
       "Registration ID           6330966\n",
       "Origin                          2\n",
       "Sector                         14\n",
       "Entity                         32\n",
       "Sex                             2\n",
       "Birth Entity                   33\n",
       "Residence Entity               32\n",
       "Residence Municipality        544\n",
       "Patient Type                    2\n",
       "Date Entry                    361\n",
       "Date Symptoms                 360\n",
       "Date Died                     361\n",
       "Intubated                       4\n",
       "Pneumonia                       3\n",
       "Age                           128\n",
       "Nationality                     2\n",
       "Pregnant                        5\n",
       "Language                        3\n",
       "Indigenous                      3\n",
       "Diabetes                        3\n",
       "COPD                            3\n",
       "Asthma                          3\n",
       "Immunosuppresed                 3\n",
       "Hypertension                    3\n",
       "Other Disease                   3\n",
       "Cardiovascular                  3\n",
       "Obesity                         3\n",
       "Chronic Kidney                  3\n",
       "Tobacco                         3\n",
       "COVID Contact                   3\n",
       "Lab Sample                      2\n",
       "Sample Result                   5\n",
       "Antigen Sample                  2\n",
       "Antigen Result                  3\n",
       "COVID                           7\n",
       "Migrant                         3\n",
       "Previous Nationality          172\n",
       "Previous Origin               109\n",
       "ICU                             4\n",
       "dtype: int64"
      ]
     },
     "execution_count": 7,
     "metadata": {},
     "output_type": "execute_result"
    }
   ],
   "source": [
    "df2.nunique()"
   ]
  },
  {
   "cell_type": "code",
   "execution_count": 8,
   "id": "24f0e66a",
   "metadata": {},
   "outputs": [
    {
     "name": "stdout",
     "output_type": "stream",
     "text": [
      "97    0.959521\n",
      "2     0.038711\n",
      "1     0.001737\n",
      "99    0.000031\n",
      "Name: Intubated, dtype: float64\n",
      "2     0.972857\n",
      "1     0.016839\n",
      "99    0.010304\n",
      "Name: Pneumonia, dtype: float64\n",
      "2     0.547050\n",
      "97    0.433519\n",
      "1     0.013215\n",
      "98    0.006215\n",
      "99    0.000002\n",
      "Name: Pregnant, dtype: float64\n",
      "2     0.932837\n",
      "99    0.062511\n",
      "1     0.004653\n",
      "Name: Language, dtype: float64\n",
      "2     0.932412\n",
      "99    0.061127\n",
      "1     0.006461\n",
      "Name: Indigenous, dtype: float64\n",
      "2     0.936805\n",
      "1     0.059159\n",
      "98    0.004035\n",
      "Name: Diabetes, dtype: float64\n",
      "2     0.990699\n",
      "1     0.005363\n",
      "98    0.003937\n",
      "Name: COPD, dtype: float64\n",
      "2     0.977628\n",
      "1     0.018456\n",
      "98    0.003916\n",
      "Name: Asthma, dtype: float64\n",
      "2     0.990965\n",
      "1     0.005113\n",
      "98    0.003922\n",
      "Name: Immunosuppresed, dtype: float64\n",
      "2     0.912628\n",
      "1     0.083453\n",
      "98    0.003919\n",
      "Name: Hypertension, dtype: float64\n",
      "2     0.973397\n",
      "98    0.015832\n",
      "1     0.010770\n",
      "Name: Other Disease, dtype: float64\n",
      "2     0.987941\n",
      "1     0.008136\n",
      "98    0.003923\n",
      "Name: Cardiovascular, dtype: float64\n",
      "2     0.937888\n",
      "1     0.058344\n",
      "98    0.003769\n",
      "Name: Obesity, dtype: float64\n",
      "2     0.988714\n",
      "1     0.007368\n",
      "98    0.003918\n",
      "Name: Chronic Kidney, dtype: float64\n",
      "2     0.954179\n",
      "1     0.041871\n",
      "98    0.003950\n",
      "Name: Tobacco, dtype: float64\n",
      "2     0.731829\n",
      "1     0.246040\n",
      "99    0.022131\n",
      "Name: COVID Contact, dtype: float64\n",
      "97    0.846941\n",
      "2     0.085622\n",
      "1     0.056831\n",
      "4     0.009832\n",
      "3     0.000774\n",
      "Name: Sample Result, dtype: float64\n",
      "1     0.438219\n",
      "2     0.433718\n",
      "97    0.128063\n",
      "Name: Antigen Result, dtype: float64\n",
      "3    0.484096\n",
      "7    0.471182\n",
      "6    0.031548\n",
      "1    0.011610\n",
      "5    0.001444\n",
      "2    0.000065\n",
      "4    0.000054\n",
      "Name: COVID, dtype: float64\n",
      "99    0.992753\n",
      "2     0.005371\n",
      "1     0.001877\n",
      "Name: Migrant, dtype: float64\n",
      "97    0.959521\n",
      "2     0.038854\n",
      "1     0.001594\n",
      "99    0.000031\n",
      "Name: ICU, dtype: float64\n"
     ]
    }
   ],
   "source": [
    "for c in df2.columns:\n",
    "   if len(df2[c].unique()) >= 3 and len(df2[c].unique()) <=10:\n",
    "        print(df2[c].value_counts(normalize=True))"
   ]
  },
  {
   "cell_type": "markdown",
   "id": "ae635207",
   "metadata": {},
   "source": [
    "I can see here a few things we will have to adjust\n",
    "1. the Updated Date only has one value, so we can drop that\n",
    "2. The registration ID is diffferent for every row, so we might not be needing this either\n",
    "3. Age has 128 different values, that doesnt seem right, we may need to look into this more \n",
    "4. We don't really need the columns stating where the patient came from, as we are wanting to find out where to send supplies would be to where the patient currently is\n",
    "5. We can drop a lot more of the demographic data such as indigenous and language, as they are related to whether or not the patient can speak a language or are of native blood\n",
    "6. We can drop Intubated and ICU because these are features that are not determinant for being high risk as these would mainly be occuring after being admitted. \n",
    "7. COVID results vary from 1-7, 1-3 being a positive test and 4-7 being a negative test or inconclusive. I will change this so that it will be a clear 1 for positive and 2 for negative. \n"
   ]
  },
  {
   "cell_type": "code",
   "execution_count": 9,
   "id": "6a401ec7",
   "metadata": {},
   "outputs": [],
   "source": [
    "df2=df2.drop(['Updated Date', 'Language','Indigenous','Sector','Lab Sample','Antigen Sample','Migrant', 'Previous Origin','Birth Entity','Previous Nationality',], axis=1)"
   ]
  },
  {
   "cell_type": "code",
   "execution_count": 10,
   "id": "c81e4e21",
   "metadata": {},
   "outputs": [
    {
     "data": {
      "text/html": [
       "<div>\n",
       "<style scoped>\n",
       "    .dataframe tbody tr th:only-of-type {\n",
       "        vertical-align: middle;\n",
       "    }\n",
       "\n",
       "    .dataframe tbody tr th {\n",
       "        vertical-align: top;\n",
       "    }\n",
       "\n",
       "    .dataframe thead th {\n",
       "        text-align: right;\n",
       "    }\n",
       "</style>\n",
       "<table border=\"1\" class=\"dataframe\">\n",
       "  <thead>\n",
       "    <tr style=\"text-align: right;\">\n",
       "      <th></th>\n",
       "      <th>Registration ID</th>\n",
       "      <th>Origin</th>\n",
       "      <th>Entity</th>\n",
       "      <th>Sex</th>\n",
       "      <th>Residence Entity</th>\n",
       "      <th>Residence Municipality</th>\n",
       "      <th>Patient Type</th>\n",
       "      <th>Date Entry</th>\n",
       "      <th>Date Symptoms</th>\n",
       "      <th>Date Died</th>\n",
       "      <th>...</th>\n",
       "      <th>Other Disease</th>\n",
       "      <th>Cardiovascular</th>\n",
       "      <th>Obesity</th>\n",
       "      <th>Chronic Kidney</th>\n",
       "      <th>Tobacco</th>\n",
       "      <th>COVID Contact</th>\n",
       "      <th>Sample Result</th>\n",
       "      <th>Antigen Result</th>\n",
       "      <th>COVID</th>\n",
       "      <th>ICU</th>\n",
       "    </tr>\n",
       "  </thead>\n",
       "  <tbody>\n",
       "  </tbody>\n",
       "</table>\n",
       "<p>0 rows × 30 columns</p>\n",
       "</div>"
      ],
      "text/plain": [
       "Empty DataFrame\n",
       "Columns: [Registration ID, Origin, Entity, Sex, Residence Entity, Residence Municipality, Patient Type, Date Entry, Date Symptoms, Date Died, Intubated, Pneumonia, Age, Nationality, Pregnant, Diabetes, COPD, Asthma, Immunosuppresed, Hypertension, Other Disease, Cardiovascular, Obesity, Chronic Kidney, Tobacco, COVID Contact, Sample Result, Antigen Result, COVID, ICU]\n",
       "Index: []\n",
       "\n",
       "[0 rows x 30 columns]"
      ]
     },
     "execution_count": 10,
     "metadata": {},
     "output_type": "execute_result"
    }
   ],
   "source": [
    "df2[df2.duplicated()==True]"
   ]
  },
  {
   "cell_type": "code",
   "execution_count": 11,
   "id": "ea723755",
   "metadata": {},
   "outputs": [
    {
     "data": {
      "text/html": [
       "<div>\n",
       "<style scoped>\n",
       "    .dataframe tbody tr th:only-of-type {\n",
       "        vertical-align: middle;\n",
       "    }\n",
       "\n",
       "    .dataframe tbody tr th {\n",
       "        vertical-align: top;\n",
       "    }\n",
       "\n",
       "    .dataframe thead th {\n",
       "        text-align: right;\n",
       "    }\n",
       "</style>\n",
       "<table border=\"1\" class=\"dataframe\">\n",
       "  <thead>\n",
       "    <tr style=\"text-align: right;\">\n",
       "      <th></th>\n",
       "      <th>count</th>\n",
       "      <th>%</th>\n",
       "    </tr>\n",
       "  </thead>\n",
       "  <tbody>\n",
       "    <tr>\n",
       "      <th>Registration ID</th>\n",
       "      <td>0</td>\n",
       "      <td>0.0</td>\n",
       "    </tr>\n",
       "    <tr>\n",
       "      <th>Antigen Result</th>\n",
       "      <td>0</td>\n",
       "      <td>0.0</td>\n",
       "    </tr>\n",
       "    <tr>\n",
       "      <th>Sample Result</th>\n",
       "      <td>0</td>\n",
       "      <td>0.0</td>\n",
       "    </tr>\n",
       "    <tr>\n",
       "      <th>COVID Contact</th>\n",
       "      <td>0</td>\n",
       "      <td>0.0</td>\n",
       "    </tr>\n",
       "    <tr>\n",
       "      <th>Tobacco</th>\n",
       "      <td>0</td>\n",
       "      <td>0.0</td>\n",
       "    </tr>\n",
       "    <tr>\n",
       "      <th>Chronic Kidney</th>\n",
       "      <td>0</td>\n",
       "      <td>0.0</td>\n",
       "    </tr>\n",
       "    <tr>\n",
       "      <th>Obesity</th>\n",
       "      <td>0</td>\n",
       "      <td>0.0</td>\n",
       "    </tr>\n",
       "    <tr>\n",
       "      <th>Cardiovascular</th>\n",
       "      <td>0</td>\n",
       "      <td>0.0</td>\n",
       "    </tr>\n",
       "    <tr>\n",
       "      <th>Other Disease</th>\n",
       "      <td>0</td>\n",
       "      <td>0.0</td>\n",
       "    </tr>\n",
       "    <tr>\n",
       "      <th>Hypertension</th>\n",
       "      <td>0</td>\n",
       "      <td>0.0</td>\n",
       "    </tr>\n",
       "    <tr>\n",
       "      <th>Immunosuppresed</th>\n",
       "      <td>0</td>\n",
       "      <td>0.0</td>\n",
       "    </tr>\n",
       "    <tr>\n",
       "      <th>Asthma</th>\n",
       "      <td>0</td>\n",
       "      <td>0.0</td>\n",
       "    </tr>\n",
       "    <tr>\n",
       "      <th>COPD</th>\n",
       "      <td>0</td>\n",
       "      <td>0.0</td>\n",
       "    </tr>\n",
       "    <tr>\n",
       "      <th>Diabetes</th>\n",
       "      <td>0</td>\n",
       "      <td>0.0</td>\n",
       "    </tr>\n",
       "    <tr>\n",
       "      <th>Pregnant</th>\n",
       "      <td>0</td>\n",
       "      <td>0.0</td>\n",
       "    </tr>\n",
       "    <tr>\n",
       "      <th>Nationality</th>\n",
       "      <td>0</td>\n",
       "      <td>0.0</td>\n",
       "    </tr>\n",
       "    <tr>\n",
       "      <th>Age</th>\n",
       "      <td>0</td>\n",
       "      <td>0.0</td>\n",
       "    </tr>\n",
       "    <tr>\n",
       "      <th>Pneumonia</th>\n",
       "      <td>0</td>\n",
       "      <td>0.0</td>\n",
       "    </tr>\n",
       "    <tr>\n",
       "      <th>Intubated</th>\n",
       "      <td>0</td>\n",
       "      <td>0.0</td>\n",
       "    </tr>\n",
       "    <tr>\n",
       "      <th>Date Died</th>\n",
       "      <td>0</td>\n",
       "      <td>0.0</td>\n",
       "    </tr>\n",
       "    <tr>\n",
       "      <th>Date Symptoms</th>\n",
       "      <td>0</td>\n",
       "      <td>0.0</td>\n",
       "    </tr>\n",
       "    <tr>\n",
       "      <th>Date Entry</th>\n",
       "      <td>0</td>\n",
       "      <td>0.0</td>\n",
       "    </tr>\n",
       "    <tr>\n",
       "      <th>Patient Type</th>\n",
       "      <td>0</td>\n",
       "      <td>0.0</td>\n",
       "    </tr>\n",
       "    <tr>\n",
       "      <th>Residence Municipality</th>\n",
       "      <td>0</td>\n",
       "      <td>0.0</td>\n",
       "    </tr>\n",
       "    <tr>\n",
       "      <th>Residence Entity</th>\n",
       "      <td>0</td>\n",
       "      <td>0.0</td>\n",
       "    </tr>\n",
       "    <tr>\n",
       "      <th>Sex</th>\n",
       "      <td>0</td>\n",
       "      <td>0.0</td>\n",
       "    </tr>\n",
       "    <tr>\n",
       "      <th>Entity</th>\n",
       "      <td>0</td>\n",
       "      <td>0.0</td>\n",
       "    </tr>\n",
       "    <tr>\n",
       "      <th>Origin</th>\n",
       "      <td>0</td>\n",
       "      <td>0.0</td>\n",
       "    </tr>\n",
       "    <tr>\n",
       "      <th>COVID</th>\n",
       "      <td>0</td>\n",
       "      <td>0.0</td>\n",
       "    </tr>\n",
       "    <tr>\n",
       "      <th>ICU</th>\n",
       "      <td>0</td>\n",
       "      <td>0.0</td>\n",
       "    </tr>\n",
       "  </tbody>\n",
       "</table>\n",
       "</div>"
      ],
      "text/plain": [
       "                        count    %\n",
       "Registration ID             0  0.0\n",
       "Antigen Result              0  0.0\n",
       "Sample Result               0  0.0\n",
       "COVID Contact               0  0.0\n",
       "Tobacco                     0  0.0\n",
       "Chronic Kidney              0  0.0\n",
       "Obesity                     0  0.0\n",
       "Cardiovascular              0  0.0\n",
       "Other Disease               0  0.0\n",
       "Hypertension                0  0.0\n",
       "Immunosuppresed             0  0.0\n",
       "Asthma                      0  0.0\n",
       "COPD                        0  0.0\n",
       "Diabetes                    0  0.0\n",
       "Pregnant                    0  0.0\n",
       "Nationality                 0  0.0\n",
       "Age                         0  0.0\n",
       "Pneumonia                   0  0.0\n",
       "Intubated                   0  0.0\n",
       "Date Died                   0  0.0\n",
       "Date Symptoms               0  0.0\n",
       "Date Entry                  0  0.0\n",
       "Patient Type                0  0.0\n",
       "Residence Municipality      0  0.0\n",
       "Residence Entity            0  0.0\n",
       "Sex                         0  0.0\n",
       "Entity                      0  0.0\n",
       "Origin                      0  0.0\n",
       "COVID                       0  0.0\n",
       "ICU                         0  0.0"
      ]
     },
     "execution_count": 11,
     "metadata": {},
     "output_type": "execute_result"
    }
   ],
   "source": [
    "missing = pd.concat([df2.isnull().sum(), 100 * df2.isnull().mean()], axis=1)\n",
    "missing.columns=['count','%']\n",
    "missing.sort_values(by='count')"
   ]
  },
  {
   "cell_type": "markdown",
   "id": "8b30689e",
   "metadata": {},
   "source": [
    "No missing or duplicated values immediately seen, but this quick search just tells us that there is a value put in every data point. This makes sense as there are 6 million different registration numbers. \n",
    "\n",
    "However, the data follows the following rule for the values:\n",
    "\n",
    "1 is yes\n",
    "\n",
    "2 is no\n",
    "\n",
    "97 is not applicable\n",
    "\n",
    "98 is ignored\n",
    "\n",
    "99 is unspecified\n",
    "\n",
    "For many of the features, the values 97, 98 and 99 could be considered missing values. "
   ]
  },
  {
   "cell_type": "code",
   "execution_count": 12,
   "id": "32c5a19f",
   "metadata": {},
   "outputs": [],
   "source": [
    "#Replace COVID values so that 1 is positive, 2 is negative\n",
    "df2['COVID'] = df2['COVID'].replace([2,3], 1)\n",
    "df2['COVID'] = df2['COVID'].replace([4,5,6,7], 2)"
   ]
  },
  {
   "cell_type": "code",
   "execution_count": 13,
   "id": "cf673cb0",
   "metadata": {},
   "outputs": [
    {
     "data": {
      "text/html": [
       "<div>\n",
       "<style scoped>\n",
       "    .dataframe tbody tr th:only-of-type {\n",
       "        vertical-align: middle;\n",
       "    }\n",
       "\n",
       "    .dataframe tbody tr th {\n",
       "        vertical-align: top;\n",
       "    }\n",
       "\n",
       "    .dataframe thead th {\n",
       "        text-align: right;\n",
       "    }\n",
       "</style>\n",
       "<table border=\"1\" class=\"dataframe\">\n",
       "  <thead>\n",
       "    <tr style=\"text-align: right;\">\n",
       "      <th></th>\n",
       "      <th>Registration ID</th>\n",
       "      <th>Origin</th>\n",
       "      <th>Entity</th>\n",
       "      <th>Sex</th>\n",
       "      <th>Residence Entity</th>\n",
       "      <th>Residence Municipality</th>\n",
       "      <th>Patient Type</th>\n",
       "      <th>Date Entry</th>\n",
       "      <th>Date Symptoms</th>\n",
       "      <th>Date Died</th>\n",
       "      <th>...</th>\n",
       "      <th>Other Disease</th>\n",
       "      <th>Cardiovascular</th>\n",
       "      <th>Obesity</th>\n",
       "      <th>Chronic Kidney</th>\n",
       "      <th>Tobacco</th>\n",
       "      <th>COVID Contact</th>\n",
       "      <th>Sample Result</th>\n",
       "      <th>Antigen Result</th>\n",
       "      <th>COVID</th>\n",
       "      <th>ICU</th>\n",
       "    </tr>\n",
       "  </thead>\n",
       "  <tbody>\n",
       "    <tr>\n",
       "      <th>0</th>\n",
       "      <td>10e0db</td>\n",
       "      <td>1</td>\n",
       "      <td>20</td>\n",
       "      <td>2</td>\n",
       "      <td>20</td>\n",
       "      <td>67</td>\n",
       "      <td>1</td>\n",
       "      <td>2022-06-23</td>\n",
       "      <td>2022-06-21</td>\n",
       "      <td>9999-99-99</td>\n",
       "      <td>...</td>\n",
       "      <td>2</td>\n",
       "      <td>2</td>\n",
       "      <td>2</td>\n",
       "      <td>2</td>\n",
       "      <td>2</td>\n",
       "      <td>1</td>\n",
       "      <td>97</td>\n",
       "      <td>2</td>\n",
       "      <td>2</td>\n",
       "      <td>97</td>\n",
       "    </tr>\n",
       "    <tr>\n",
       "      <th>1</th>\n",
       "      <td>0989f5</td>\n",
       "      <td>2</td>\n",
       "      <td>14</td>\n",
       "      <td>1</td>\n",
       "      <td>14</td>\n",
       "      <td>71</td>\n",
       "      <td>1</td>\n",
       "      <td>2022-08-09</td>\n",
       "      <td>2022-08-06</td>\n",
       "      <td>9999-99-99</td>\n",
       "      <td>...</td>\n",
       "      <td>2</td>\n",
       "      <td>2</td>\n",
       "      <td>2</td>\n",
       "      <td>2</td>\n",
       "      <td>2</td>\n",
       "      <td>2</td>\n",
       "      <td>97</td>\n",
       "      <td>1</td>\n",
       "      <td>1</td>\n",
       "      <td>97</td>\n",
       "    </tr>\n",
       "    <tr>\n",
       "      <th>2</th>\n",
       "      <td>01e27d</td>\n",
       "      <td>2</td>\n",
       "      <td>25</td>\n",
       "      <td>2</td>\n",
       "      <td>25</td>\n",
       "      <td>1</td>\n",
       "      <td>1</td>\n",
       "      <td>2022-02-14</td>\n",
       "      <td>2022-02-14</td>\n",
       "      <td>9999-99-99</td>\n",
       "      <td>...</td>\n",
       "      <td>2</td>\n",
       "      <td>2</td>\n",
       "      <td>2</td>\n",
       "      <td>2</td>\n",
       "      <td>2</td>\n",
       "      <td>2</td>\n",
       "      <td>97</td>\n",
       "      <td>2</td>\n",
       "      <td>2</td>\n",
       "      <td>97</td>\n",
       "    </tr>\n",
       "    <tr>\n",
       "      <th>3</th>\n",
       "      <td>180725</td>\n",
       "      <td>2</td>\n",
       "      <td>9</td>\n",
       "      <td>2</td>\n",
       "      <td>9</td>\n",
       "      <td>12</td>\n",
       "      <td>2</td>\n",
       "      <td>2022-01-19</td>\n",
       "      <td>2022-01-17</td>\n",
       "      <td>9999-99-99</td>\n",
       "      <td>...</td>\n",
       "      <td>2</td>\n",
       "      <td>2</td>\n",
       "      <td>2</td>\n",
       "      <td>2</td>\n",
       "      <td>2</td>\n",
       "      <td>2</td>\n",
       "      <td>97</td>\n",
       "      <td>2</td>\n",
       "      <td>2</td>\n",
       "      <td>2</td>\n",
       "    </tr>\n",
       "    <tr>\n",
       "      <th>4</th>\n",
       "      <td>0793b8</td>\n",
       "      <td>2</td>\n",
       "      <td>9</td>\n",
       "      <td>2</td>\n",
       "      <td>9</td>\n",
       "      <td>10</td>\n",
       "      <td>1</td>\n",
       "      <td>2022-05-03</td>\n",
       "      <td>2022-05-03</td>\n",
       "      <td>9999-99-99</td>\n",
       "      <td>...</td>\n",
       "      <td>2</td>\n",
       "      <td>2</td>\n",
       "      <td>2</td>\n",
       "      <td>2</td>\n",
       "      <td>1</td>\n",
       "      <td>2</td>\n",
       "      <td>97</td>\n",
       "      <td>2</td>\n",
       "      <td>2</td>\n",
       "      <td>97</td>\n",
       "    </tr>\n",
       "    <tr>\n",
       "      <th>...</th>\n",
       "      <td>...</td>\n",
       "      <td>...</td>\n",
       "      <td>...</td>\n",
       "      <td>...</td>\n",
       "      <td>...</td>\n",
       "      <td>...</td>\n",
       "      <td>...</td>\n",
       "      <td>...</td>\n",
       "      <td>...</td>\n",
       "      <td>...</td>\n",
       "      <td>...</td>\n",
       "      <td>...</td>\n",
       "      <td>...</td>\n",
       "      <td>...</td>\n",
       "      <td>...</td>\n",
       "      <td>...</td>\n",
       "      <td>...</td>\n",
       "      <td>...</td>\n",
       "      <td>...</td>\n",
       "      <td>...</td>\n",
       "      <td>...</td>\n",
       "    </tr>\n",
       "    <tr>\n",
       "      <th>6330961</th>\n",
       "      <td>m07fc81</td>\n",
       "      <td>2</td>\n",
       "      <td>15</td>\n",
       "      <td>2</td>\n",
       "      <td>15</td>\n",
       "      <td>999</td>\n",
       "      <td>1</td>\n",
       "      <td>2022-12-22</td>\n",
       "      <td>2022-12-22</td>\n",
       "      <td>9999-99-99</td>\n",
       "      <td>...</td>\n",
       "      <td>98</td>\n",
       "      <td>2</td>\n",
       "      <td>2</td>\n",
       "      <td>2</td>\n",
       "      <td>2</td>\n",
       "      <td>99</td>\n",
       "      <td>3</td>\n",
       "      <td>97</td>\n",
       "      <td>2</td>\n",
       "      <td>97</td>\n",
       "    </tr>\n",
       "    <tr>\n",
       "      <th>6330962</th>\n",
       "      <td>m101c2f</td>\n",
       "      <td>2</td>\n",
       "      <td>15</td>\n",
       "      <td>2</td>\n",
       "      <td>15</td>\n",
       "      <td>999</td>\n",
       "      <td>1</td>\n",
       "      <td>2022-12-22</td>\n",
       "      <td>2022-12-22</td>\n",
       "      <td>9999-99-99</td>\n",
       "      <td>...</td>\n",
       "      <td>98</td>\n",
       "      <td>2</td>\n",
       "      <td>2</td>\n",
       "      <td>2</td>\n",
       "      <td>2</td>\n",
       "      <td>99</td>\n",
       "      <td>1</td>\n",
       "      <td>97</td>\n",
       "      <td>1</td>\n",
       "      <td>97</td>\n",
       "    </tr>\n",
       "    <tr>\n",
       "      <th>6330963</th>\n",
       "      <td>m123829</td>\n",
       "      <td>2</td>\n",
       "      <td>15</td>\n",
       "      <td>2</td>\n",
       "      <td>15</td>\n",
       "      <td>999</td>\n",
       "      <td>1</td>\n",
       "      <td>2022-12-22</td>\n",
       "      <td>2022-12-22</td>\n",
       "      <td>9999-99-99</td>\n",
       "      <td>...</td>\n",
       "      <td>98</td>\n",
       "      <td>2</td>\n",
       "      <td>2</td>\n",
       "      <td>2</td>\n",
       "      <td>2</td>\n",
       "      <td>99</td>\n",
       "      <td>3</td>\n",
       "      <td>97</td>\n",
       "      <td>2</td>\n",
       "      <td>97</td>\n",
       "    </tr>\n",
       "    <tr>\n",
       "      <th>6330964</th>\n",
       "      <td>m0610a9</td>\n",
       "      <td>2</td>\n",
       "      <td>15</td>\n",
       "      <td>1</td>\n",
       "      <td>15</td>\n",
       "      <td>999</td>\n",
       "      <td>1</td>\n",
       "      <td>2022-12-23</td>\n",
       "      <td>2022-12-23</td>\n",
       "      <td>9999-99-99</td>\n",
       "      <td>...</td>\n",
       "      <td>98</td>\n",
       "      <td>2</td>\n",
       "      <td>2</td>\n",
       "      <td>2</td>\n",
       "      <td>2</td>\n",
       "      <td>99</td>\n",
       "      <td>97</td>\n",
       "      <td>97</td>\n",
       "      <td>2</td>\n",
       "      <td>97</td>\n",
       "    </tr>\n",
       "    <tr>\n",
       "      <th>6330965</th>\n",
       "      <td>m0f4634</td>\n",
       "      <td>2</td>\n",
       "      <td>15</td>\n",
       "      <td>1</td>\n",
       "      <td>15</td>\n",
       "      <td>99</td>\n",
       "      <td>1</td>\n",
       "      <td>2022-12-23</td>\n",
       "      <td>2022-12-23</td>\n",
       "      <td>9999-99-99</td>\n",
       "      <td>...</td>\n",
       "      <td>98</td>\n",
       "      <td>2</td>\n",
       "      <td>2</td>\n",
       "      <td>2</td>\n",
       "      <td>1</td>\n",
       "      <td>99</td>\n",
       "      <td>3</td>\n",
       "      <td>97</td>\n",
       "      <td>2</td>\n",
       "      <td>97</td>\n",
       "    </tr>\n",
       "  </tbody>\n",
       "</table>\n",
       "<p>6330966 rows × 30 columns</p>\n",
       "</div>"
      ],
      "text/plain": [
       "        Registration ID  Origin  Entity  Sex  Residence Entity  \\\n",
       "0                10e0db       1      20    2                20   \n",
       "1                0989f5       2      14    1                14   \n",
       "2                01e27d       2      25    2                25   \n",
       "3                180725       2       9    2                 9   \n",
       "4                0793b8       2       9    2                 9   \n",
       "...                 ...     ...     ...  ...               ...   \n",
       "6330961         m07fc81       2      15    2                15   \n",
       "6330962         m101c2f       2      15    2                15   \n",
       "6330963         m123829       2      15    2                15   \n",
       "6330964         m0610a9       2      15    1                15   \n",
       "6330965         m0f4634       2      15    1                15   \n",
       "\n",
       "         Residence Municipality  Patient Type  Date Entry Date Symptoms  \\\n",
       "0                            67             1  2022-06-23    2022-06-21   \n",
       "1                            71             1  2022-08-09    2022-08-06   \n",
       "2                             1             1  2022-02-14    2022-02-14   \n",
       "3                            12             2  2022-01-19    2022-01-17   \n",
       "4                            10             1  2022-05-03    2022-05-03   \n",
       "...                         ...           ...         ...           ...   \n",
       "6330961                     999             1  2022-12-22    2022-12-22   \n",
       "6330962                     999             1  2022-12-22    2022-12-22   \n",
       "6330963                     999             1  2022-12-22    2022-12-22   \n",
       "6330964                     999             1  2022-12-23    2022-12-23   \n",
       "6330965                      99             1  2022-12-23    2022-12-23   \n",
       "\n",
       "          Date Died  ...  Other Disease  Cardiovascular  Obesity  \\\n",
       "0        9999-99-99  ...              2               2        2   \n",
       "1        9999-99-99  ...              2               2        2   \n",
       "2        9999-99-99  ...              2               2        2   \n",
       "3        9999-99-99  ...              2               2        2   \n",
       "4        9999-99-99  ...              2               2        2   \n",
       "...             ...  ...            ...             ...      ...   \n",
       "6330961  9999-99-99  ...             98               2        2   \n",
       "6330962  9999-99-99  ...             98               2        2   \n",
       "6330963  9999-99-99  ...             98               2        2   \n",
       "6330964  9999-99-99  ...             98               2        2   \n",
       "6330965  9999-99-99  ...             98               2        2   \n",
       "\n",
       "         Chronic Kidney  Tobacco  COVID Contact  Sample Result  \\\n",
       "0                     2        2              1             97   \n",
       "1                     2        2              2             97   \n",
       "2                     2        2              2             97   \n",
       "3                     2        2              2             97   \n",
       "4                     2        1              2             97   \n",
       "...                 ...      ...            ...            ...   \n",
       "6330961               2        2             99              3   \n",
       "6330962               2        2             99              1   \n",
       "6330963               2        2             99              3   \n",
       "6330964               2        2             99             97   \n",
       "6330965               2        1             99              3   \n",
       "\n",
       "         Antigen Result  COVID  ICU  \n",
       "0                     2      2   97  \n",
       "1                     1      1   97  \n",
       "2                     2      2   97  \n",
       "3                     2      2    2  \n",
       "4                     2      2   97  \n",
       "...                 ...    ...  ...  \n",
       "6330961              97      2   97  \n",
       "6330962              97      1   97  \n",
       "6330963              97      2   97  \n",
       "6330964              97      2   97  \n",
       "6330965              97      2   97  \n",
       "\n",
       "[6330966 rows x 30 columns]"
      ]
     },
     "execution_count": 13,
     "metadata": {},
     "output_type": "execute_result"
    }
   ],
   "source": [
    "df2"
   ]
  },
  {
   "cell_type": "markdown",
   "id": "ef2f0955",
   "metadata": {},
   "source": [
    "I will now perform Chi-Square testing to find if there any relationships between our categorical variables \n",
    "\n",
    "Null Hypothesis = No difference or no relationship between \"Classification Final\" ( Whether the patient has COVID) and other features\n",
    "\n",
    "\n",
    "Significance level = 0.05\n",
    "\n",
    "If the P-Value is less than significance level, the hypothesis is rejected, meaning that there could be a relationship between the two features"
   ]
  },
  {
   "cell_type": "code",
   "execution_count": 14,
   "id": "d18a558f",
   "metadata": {},
   "outputs": [],
   "source": [
    "import numpy as np\n",
    "from scipy import stats "
   ]
  },
  {
   "cell_type": "code",
   "execution_count": 15,
   "id": "76d651e7",
   "metadata": {},
   "outputs": [
    {
     "name": "stdout",
     "output_type": "stream",
     "text": [
      "OBESIDAD                 1        2      98\n",
      "CLASIFICACION_FINAL                        \n",
      "1                      4200    68968    337\n",
      "2                        39      374      1\n",
      "3                    201261  2852207  11328\n",
      "4                        12      332      0\n",
      "5                       546     8566     27\n",
      "6                     10254   188798    677\n",
      "7                    153059  2818490  11490\n"
     ]
    }
   ],
   "source": [
    "compare = pd.crosstab(df['CLASIFICACION_FINAL'],df['OBESIDAD'])\n",
    "print(compare)"
   ]
  },
  {
   "cell_type": "code",
   "execution_count": 16,
   "id": "2da8ce71",
   "metadata": {},
   "outputs": [
    {
     "name": "stdout",
     "output_type": "stream",
     "text": [
      "Chi_square value: 5902.031143831834 \n",
      "P-Value: 0.0\n",
      "Degrees of Freedom: 12\n",
      "Expected: [[4.28854228e+03 6.89394338e+04 2.77023964e+02]\n",
      " [2.41542276e+01 3.88285499e+02 1.56027374e+00]\n",
      " [1.78811063e+05 2.87443440e+06 1.15505331e+04]\n",
      " [2.00701795e+01 3.22633361e+02 1.29645934e+00]\n",
      " [5.33201658e+02 8.57135549e+03 3.44428544e+01]\n",
      " [1.16528979e+04 1.87323368e+05 7.52734091e+02]\n",
      " [1.74041070e+05 2.79775552e+06 1.12424092e+04]]\n"
     ]
    }
   ],
   "source": [
    "chi2, p, dof, ex=stats.chi2_contingency(compare)\n",
    "print(f'Chi_square value: {chi2} \\nP-Value: {p}\\nDegrees of Freedom: {dof}\\nExpected: {ex}')"
   ]
  },
  {
   "cell_type": "code",
   "execution_count": 17,
   "id": "3a035f76",
   "metadata": {},
   "outputs": [],
   "source": [
    "feature=[]\n",
    "pvalue=[]\n",
    "\n",
    "for c in df2.columns:\n",
    "    if(df2[c].dtype == np.int64):\n",
    "        compare = pd.crosstab(df2['COVID'],df2[c])\n",
    "        chi2, p, dof, ex=stats.chi2_contingency(compare)\n",
    "        pvalue.append(p)\n",
    "        feature.append(c)\n",
    "\n",
    "        df_pvalue = pd.DataFrame(list(zip(feature, pvalue)),columns=['feature','pvalue'])"
   ]
  },
  {
   "cell_type": "code",
   "execution_count": 18,
   "id": "a1ac82ab",
   "metadata": {},
   "outputs": [
    {
     "data": {
      "text/html": [
       "<div>\n",
       "<style scoped>\n",
       "    .dataframe tbody tr th:only-of-type {\n",
       "        vertical-align: middle;\n",
       "    }\n",
       "\n",
       "    .dataframe tbody tr th {\n",
       "        vertical-align: top;\n",
       "    }\n",
       "\n",
       "    .dataframe thead th {\n",
       "        text-align: right;\n",
       "    }\n",
       "</style>\n",
       "<table border=\"1\" class=\"dataframe\">\n",
       "  <thead>\n",
       "    <tr style=\"text-align: right;\">\n",
       "      <th></th>\n",
       "      <th>feature</th>\n",
       "      <th>pvalue</th>\n",
       "    </tr>\n",
       "  </thead>\n",
       "  <tbody>\n",
       "    <tr>\n",
       "      <th>0</th>\n",
       "      <td>Origin</td>\n",
       "      <td>0.000000e+00</td>\n",
       "    </tr>\n",
       "    <tr>\n",
       "      <th>1</th>\n",
       "      <td>Entity</td>\n",
       "      <td>0.000000e+00</td>\n",
       "    </tr>\n",
       "    <tr>\n",
       "      <th>2</th>\n",
       "      <td>Sex</td>\n",
       "      <td>1.686757e-95</td>\n",
       "    </tr>\n",
       "    <tr>\n",
       "      <th>3</th>\n",
       "      <td>Residence Entity</td>\n",
       "      <td>0.000000e+00</td>\n",
       "    </tr>\n",
       "    <tr>\n",
       "      <th>4</th>\n",
       "      <td>Residence Municipality</td>\n",
       "      <td>0.000000e+00</td>\n",
       "    </tr>\n",
       "    <tr>\n",
       "      <th>5</th>\n",
       "      <td>Patient Type</td>\n",
       "      <td>0.000000e+00</td>\n",
       "    </tr>\n",
       "    <tr>\n",
       "      <th>6</th>\n",
       "      <td>Intubated</td>\n",
       "      <td>0.000000e+00</td>\n",
       "    </tr>\n",
       "    <tr>\n",
       "      <th>7</th>\n",
       "      <td>Pneumonia</td>\n",
       "      <td>0.000000e+00</td>\n",
       "    </tr>\n",
       "    <tr>\n",
       "      <th>8</th>\n",
       "      <td>Age</td>\n",
       "      <td>0.000000e+00</td>\n",
       "    </tr>\n",
       "    <tr>\n",
       "      <th>9</th>\n",
       "      <td>Nationality</td>\n",
       "      <td>0.000000e+00</td>\n",
       "    </tr>\n",
       "    <tr>\n",
       "      <th>10</th>\n",
       "      <td>Pregnant</td>\n",
       "      <td>0.000000e+00</td>\n",
       "    </tr>\n",
       "    <tr>\n",
       "      <th>11</th>\n",
       "      <td>Diabetes</td>\n",
       "      <td>6.729010e-01</td>\n",
       "    </tr>\n",
       "    <tr>\n",
       "      <th>12</th>\n",
       "      <td>COPD</td>\n",
       "      <td>0.000000e+00</td>\n",
       "    </tr>\n",
       "    <tr>\n",
       "      <th>13</th>\n",
       "      <td>Asthma</td>\n",
       "      <td>6.345201e-66</td>\n",
       "    </tr>\n",
       "    <tr>\n",
       "      <th>14</th>\n",
       "      <td>Immunosuppresed</td>\n",
       "      <td>1.244709e-148</td>\n",
       "    </tr>\n",
       "    <tr>\n",
       "      <th>15</th>\n",
       "      <td>Hypertension</td>\n",
       "      <td>0.000000e+00</td>\n",
       "    </tr>\n",
       "    <tr>\n",
       "      <th>16</th>\n",
       "      <td>Other Disease</td>\n",
       "      <td>0.000000e+00</td>\n",
       "    </tr>\n",
       "    <tr>\n",
       "      <th>17</th>\n",
       "      <td>Cardiovascular</td>\n",
       "      <td>4.938777e-239</td>\n",
       "    </tr>\n",
       "    <tr>\n",
       "      <th>18</th>\n",
       "      <td>Obesity</td>\n",
       "      <td>0.000000e+00</td>\n",
       "    </tr>\n",
       "    <tr>\n",
       "      <th>19</th>\n",
       "      <td>Chronic Kidney</td>\n",
       "      <td>1.291860e-311</td>\n",
       "    </tr>\n",
       "    <tr>\n",
       "      <th>20</th>\n",
       "      <td>Tobacco</td>\n",
       "      <td>7.014405e-47</td>\n",
       "    </tr>\n",
       "    <tr>\n",
       "      <th>21</th>\n",
       "      <td>COVID Contact</td>\n",
       "      <td>0.000000e+00</td>\n",
       "    </tr>\n",
       "    <tr>\n",
       "      <th>22</th>\n",
       "      <td>Sample Result</td>\n",
       "      <td>0.000000e+00</td>\n",
       "    </tr>\n",
       "    <tr>\n",
       "      <th>23</th>\n",
       "      <td>Antigen Result</td>\n",
       "      <td>0.000000e+00</td>\n",
       "    </tr>\n",
       "    <tr>\n",
       "      <th>24</th>\n",
       "      <td>COVID</td>\n",
       "      <td>0.000000e+00</td>\n",
       "    </tr>\n",
       "    <tr>\n",
       "      <th>25</th>\n",
       "      <td>ICU</td>\n",
       "      <td>0.000000e+00</td>\n",
       "    </tr>\n",
       "  </tbody>\n",
       "</table>\n",
       "</div>"
      ],
      "text/plain": [
       "                   feature         pvalue\n",
       "0                   Origin   0.000000e+00\n",
       "1                   Entity   0.000000e+00\n",
       "2                      Sex   1.686757e-95\n",
       "3         Residence Entity   0.000000e+00\n",
       "4   Residence Municipality   0.000000e+00\n",
       "5             Patient Type   0.000000e+00\n",
       "6                Intubated   0.000000e+00\n",
       "7                Pneumonia   0.000000e+00\n",
       "8                      Age   0.000000e+00\n",
       "9              Nationality   0.000000e+00\n",
       "10                Pregnant   0.000000e+00\n",
       "11                Diabetes   6.729010e-01\n",
       "12                    COPD   0.000000e+00\n",
       "13                  Asthma   6.345201e-66\n",
       "14         Immunosuppresed  1.244709e-148\n",
       "15            Hypertension   0.000000e+00\n",
       "16           Other Disease   0.000000e+00\n",
       "17          Cardiovascular  4.938777e-239\n",
       "18                 Obesity   0.000000e+00\n",
       "19          Chronic Kidney  1.291860e-311\n",
       "20                 Tobacco   7.014405e-47\n",
       "21           COVID Contact   0.000000e+00\n",
       "22           Sample Result   0.000000e+00\n",
       "23          Antigen Result   0.000000e+00\n",
       "24                   COVID   0.000000e+00\n",
       "25                     ICU   0.000000e+00"
      ]
     },
     "execution_count": 18,
     "metadata": {},
     "output_type": "execute_result"
    }
   ],
   "source": [
    "df_pvalue"
   ]
  },
  {
   "cell_type": "markdown",
   "id": "5c0a2045",
   "metadata": {},
   "source": [
    "The Chi Square test showed that all of the features resulted in a P-value that was less than the significance level so the null hypothesis is rejected.\n",
    "\n",
    "I will now use feature selection to isolate the top features"
   ]
  },
  {
   "cell_type": "code",
   "execution_count": 19,
   "id": "e1a89d73",
   "metadata": {},
   "outputs": [],
   "source": [
    "from sklearn.feature_selection import SelectKBest, chi2\n",
    "from sklearn.preprocessing import StandardScaler\n",
    "from numpy import array"
   ]
  },
  {
   "cell_type": "code",
   "execution_count": 20,
   "id": "4ff08d0d",
   "metadata": {},
   "outputs": [],
   "source": [
    "df3=df2.drop(['Registration ID','Date Entry','Date Symptoms','Date Died'],axis=1)"
   ]
  },
  {
   "cell_type": "code",
   "execution_count": 90,
   "id": "dc3a35c2",
   "metadata": {},
   "outputs": [],
   "source": [
    "y=df3['COVID']\n",
    "X=df3.drop(columns=['COVID'], axis=1)\n",
    "\n",
    "select=SelectKBest(chi2,k=12)"
   ]
  },
  {
   "cell_type": "code",
   "execution_count": 91,
   "id": "85721540",
   "metadata": {},
   "outputs": [],
   "source": [
    "new=select.fit_transform(X,y)"
   ]
  },
  {
   "cell_type": "code",
   "execution_count": 92,
   "id": "db9fdb45",
   "metadata": {},
   "outputs": [
    {
     "data": {
      "text/plain": [
       "array([False,  True, False,  True,  True, False,  True,  True,  True,\n",
       "       False,  True, False, False, False, False, False,  True, False,\n",
       "       False, False, False,  True,  True,  True,  True])"
      ]
     },
     "execution_count": 92,
     "metadata": {},
     "output_type": "execute_result"
    }
   ],
   "source": [
    "select.get_support()"
   ]
  },
  {
   "cell_type": "code",
   "execution_count": 93,
   "id": "9daf8f72",
   "metadata": {},
   "outputs": [
    {
     "data": {
      "text/plain": [
       "array(['Entity', 'Residence Entity', 'Residence Municipality',\n",
       "       'Intubated', 'Pneumonia', 'Age', 'Pregnant', 'Other Disease',\n",
       "       'COVID Contact', 'Sample Result', 'Antigen Result', 'ICU'],\n",
       "      dtype=object)"
      ]
     },
     "execution_count": 93,
     "metadata": {},
     "output_type": "execute_result"
    }
   ],
   "source": [
    "select.get_feature_names_out(input_features=None)"
   ]
  },
  {
   "cell_type": "code",
   "execution_count": 60,
   "id": "72c23753",
   "metadata": {},
   "outputs": [
    {
     "name": "stdout",
     "output_type": "stream",
     "text": [
      "49.58 % of patients tested positive for COVID\n",
      "(3138713, 31)\n"
     ]
    }
   ],
   "source": [
    "# I will check how many people actually tested positive\n",
    "percent_positive = round(sum(df2['COVID'] == 1) / len(df2['COVID']), 4) * 100\n",
    "print(percent_positive,\"% of patients tested positive for COVID\")\n",
    "\n",
    "positive = df2[df2['COVID'] == 1]\n",
    "print(positive.shape)"
   ]
  },
  {
   "cell_type": "code",
   "execution_count": 25,
   "id": "2bc1186b",
   "metadata": {},
   "outputs": [
    {
     "data": {
      "text/plain": [
       "9999-99-99    6290973\n",
       "2022-02-02        695\n",
       "2022-02-01        689\n",
       "2022-01-30        656\n",
       "2022-01-31        643\n",
       "               ...   \n",
       "2022-10-20         18\n",
       "2022-11-09         18\n",
       "2022-12-26         11\n",
       "2022-01-02          5\n",
       "2022-01-01          3\n",
       "Name: Date Died, Length: 361, dtype: int64"
      ]
     },
     "execution_count": 25,
     "metadata": {},
     "output_type": "execute_result"
    }
   ],
   "source": [
    "df2['Date Died'].value_counts()"
   ]
  },
  {
   "cell_type": "code",
   "execution_count": 26,
   "id": "cec5789f",
   "metadata": {},
   "outputs": [],
   "source": [
    "#Creating a new column to state is a person has died or not, 0 for alive, 1 for died\n",
    "df2['Death'] = [0 if each==\"9999-99-99\" else 1 for each in df2['Date Died']]"
   ]
  },
  {
   "cell_type": "code",
   "execution_count": 27,
   "id": "e3950f8c",
   "metadata": {},
   "outputs": [
    {
     "data": {
      "text/plain": [
       "2022-01-10    133732\n",
       "2022-01-17    104748\n",
       "2022-01-11     98522\n",
       "2022-01-12     94019\n",
       "2022-01-18     88918\n",
       "               ...  \n",
       "2022-10-29      3230\n",
       "2022-04-14      3203\n",
       "2022-12-24      2292\n",
       "2022-12-25      1382\n",
       "2022-12-26       865\n",
       "Name: Date Symptoms, Length: 360, dtype: int64"
      ]
     },
     "execution_count": 27,
     "metadata": {},
     "output_type": "execute_result"
    }
   ],
   "source": [
    "df2['Date Symptoms'].value_counts()"
   ]
  },
  {
   "cell_type": "code",
   "execution_count": 28,
   "id": "1c3673f7",
   "metadata": {},
   "outputs": [],
   "source": [
    "df2['Date Symptoms'] = pd.to_datetime(df2['Date Symptoms'])\n",
    "df2['Date Entry'] = pd.to_datetime(df2['Date Entry'])"
   ]
  },
  {
   "cell_type": "code",
   "execution_count": 29,
   "id": "9fdbd746",
   "metadata": {},
   "outputs": [
    {
     "data": {
      "image/png": "[encoded data removed]",
      "text/plain": [
       "<Figure size 1000x500 with 1 Axes>"
      ]
     },
     "metadata": {},
     "output_type": "display_data"
    }
   ],
   "source": [
    "plt.figure(figsize=(10,5))\n",
    "sns.histplot(x=df2['Date Symptoms'])\n",
    "plt.title(\"Number of Cases each Date symptoms\");"
   ]
  },
  {
   "cell_type": "code",
   "execution_count": 30,
   "id": "f611dba9",
   "metadata": {},
   "outputs": [
    {
     "data": {
      "image/png": "[encoded data removed]",
      "text/plain": [
       "<Figure size 1000x500 with 1 Axes>"
      ]
     },
     "metadata": {},
     "output_type": "display_data"
    }
   ],
   "source": [
    "plt.figure(figsize=(10,5))\n",
    "sns.histplot(x=df2['Date Entry'])\n",
    "plt.title(\"Number of Cases each Date Entry\");"
   ]
  },
  {
   "cell_type": "code",
   "execution_count": 31,
   "id": "e3ff18eb",
   "metadata": {},
   "outputs": [],
   "source": [
    "deaths_1=df2.drop(df2[(df2['Date Died'] >= '9999-99-99')].index)"
   ]
  },
  {
   "cell_type": "code",
   "execution_count": 32,
   "id": "d3e736be",
   "metadata": {},
   "outputs": [],
   "source": [
    "deaths_1['Date Died'] = pd.to_datetime(deaths_1['Date Died'])"
   ]
  },
  {
   "cell_type": "code",
   "execution_count": 33,
   "id": "6be4aff8",
   "metadata": {},
   "outputs": [
    {
     "data": {
      "image/png": "[encoded data removed]",
      "text/plain": [
       "<Figure size 1000x500 with 1 Axes>"
      ]
     },
     "metadata": {},
     "output_type": "display_data"
    }
   ],
   "source": [
    "plt.figure(figsize=(10,5))\n",
    "sns.histplot(x=deaths_1['Date Died'])\n",
    "plt.title(\"Number of Cases each patient died\");"
   ]
  },
  {
   "cell_type": "code",
   "execution_count": 35,
   "id": "6d0e0a55",
   "metadata": {},
   "outputs": [
    {
     "data": {
      "text/plain": [
       "1    25188\n",
       "2    14805\n",
       "Name: COVID, dtype: int64"
      ]
     },
     "execution_count": 35,
     "metadata": {},
     "output_type": "execute_result"
    }
   ],
   "source": [
    "deaths_1['COVID'].value_counts()"
   ]
  },
  {
   "cell_type": "markdown",
   "id": "48bf4928",
   "metadata": {},
   "source": [
    "There were more values in the age column than expected, so I will focus on cleaning it up now. "
   ]
  },
  {
   "cell_type": "code",
   "execution_count": null,
   "id": "b863b5e4",
   "metadata": {},
   "outputs": [],
   "source": [
    "df2['Age'].value_counts(ascending=True)"
   ]
  },
  {
   "cell_type": "code",
   "execution_count": 37,
   "id": "1d64ab4d",
   "metadata": {},
   "outputs": [],
   "source": [
    "df2=df2[df2['Age']<130]"
   ]
  },
  {
   "cell_type": "code",
   "execution_count": 38,
   "id": "3b860e3e",
   "metadata": {},
   "outputs": [
    {
     "data": {
      "text/plain": [
       "118         7\n",
       "116         7\n",
       "121         7\n",
       "120         9\n",
       "117        10\n",
       "        ...  \n",
       "31     155322\n",
       "29     160056\n",
       "30     160585\n",
       "27     160833\n",
       "28     162414\n",
       "Name: Age, Length: 123, dtype: int64"
      ]
     },
     "execution_count": 38,
     "metadata": {},
     "output_type": "execute_result"
    }
   ],
   "source": [
    "df2['Age'].value_counts(ascending=True)"
   ]
  },
  {
   "cell_type": "code",
   "execution_count": 39,
   "id": "8ba280b3",
   "metadata": {},
   "outputs": [
    {
     "data": {
      "image/png": "[encoded data removed]",
      "text/plain": [
       "<Figure size 1000x500 with 1 Axes>"
      ]
     },
     "metadata": {},
     "output_type": "display_data"
    }
   ],
   "source": [
    "plt.figure(figsize=(10,5))\n",
    "sns.histplot(x=df2['Age'])\n",
    "plt.axvline(df2['Age'].median(), color='red')\n",
    "plt.title(\"Age Distribution\");"
   ]
  },
  {
   "cell_type": "code",
   "execution_count": 89,
   "id": "36b1cbfa",
   "metadata": {},
   "outputs": [
    {
     "data": {
      "image/png": "[encoded data removed]",
      "text/plain": [
       "<Figure size 640x480 with 1 Axes>"
      ]
     },
     "metadata": {},
     "output_type": "display_data"
    },
    {
     "data": {
      "image/png": "[encoded data removed]",
      "text/plain": [
       "<Figure size 640x480 with 1 Axes>"
      ]
     },
     "metadata": {},
     "output_type": "display_data"
    },
    {
     "name": "stdout",
     "output_type": "stream",
     "text": [
      "\n",
      "Mean age of all patients: 37.3 years\n",
      "\n",
      "Mean age of those who survived: 37.1 years\n",
      "\n",
      "Mean age of those who died: 66.1 years\n"
     ]
    }
   ],
   "source": [
    "plt.hist(df2.Age)\n",
    "plt.xlabel(\"AGE\")\n",
    "plt.ylabel(\"Count\")\n",
    "plt.title(\"Histogram of AGE\")\n",
    "plt.show()\n",
    "\n",
    "# Boxplots of AGE by SURVIVED status\n",
    "AGE_SURVIVED = df2[df2.Death == 0].Age\n",
    "AGE_DIED = df2[df2.Death == 1].Age\n",
    "plt.boxplot(x=[AGE_SURVIVED, AGE_DIED], labels=['SURVIVED (0)', 'DIED (1)'])\n",
    "plt.ylabel(\"AGE\")\n",
    "plt.title(\"Boxplots of AGE by SURVIVED status\")\n",
    "plt.show()\n",
    "\n",
    "# Mean age for each group\n",
    "print(\"\\nMean age of all patients: {} years\".format(round(sum(df2.Age) / \n",
    "                                                    len(df2.Age), 1)))\n",
    "print(\"\\nMean age of those who survived: {} years\".format(round(sum(df2[df2.Death == 0].Age) /   \n",
    "                                                                len(df2[df2.Death == 0].Age), 1)))\n",
    "print(\"\\nMean age of those who died: {} years\".format(round(sum(df2[df2.Death == 1].Age) / \n",
    "                                                    len(df2[df2.Death == 1].Age), 1)))\n"
   ]
  },
  {
   "cell_type": "code",
   "execution_count": 43,
   "id": "07281075",
   "metadata": {},
   "outputs": [
    {
     "name": "stdout",
     "output_type": "stream",
     "text": [
      "6290968 people (99.37%) survived COVID-19 infection.\n",
      "39993 people (0.63%) died of COVID-19 infection.\n"
     ]
    }
   ],
   "source": [
    "# Number of people who survived / died and their percentages\n",
    "survived = sum(df2['Death'] == 0)\n",
    "survived_percent = round(survived / len(df2['Death']), 4) * 100\n",
    "died = sum(df2['Death'] == 1)\n",
    "died_percent = round(died /len(df2['Death']), 4) * 100\n",
    "\n",
    "print(\"{} people ({}%) survived COVID-19 infection.\".format(survived, survived_percent))\n",
    "print(\"{} people ({}%) died of COVID-19 infection.\".format(died, died_percent))"
   ]
  },
  {
   "cell_type": "code",
   "execution_count": 61,
   "id": "da91f917",
   "metadata": {
    "scrolled": true
   },
   "outputs": [
    {
     "data": {
      "image/png": "[encoded data removed]",
      "text/plain": [
       "<Figure size 2000x1000 with 1 Axes>"
      ]
     },
     "metadata": {},
     "output_type": "display_data"
    }
   ],
   "source": [
    "#Positive for COVID - Alive \n",
    "alive_positive = df2.loc[(df2['COVID'] == 1) & (df2['Date Died'] == '9999-99-99') & (df2['Date Died'].notnull())]\n",
    "#Positive for COVID - Dead\n",
    "dead_positive = df2.loc[(df2['COVID'] == 1) & (df2['Date Died'] != '9999-99-99') & (df2['Date Died'].notnull())]\n",
    "#Negative for COVID - Alive \n",
    "alive_negative = df2.loc[(df2['COVID'] == 2 ) & (df2['Date Died'] == '9999-99-99') & (df2['Date Died'].notnull())]\n",
    "#Negative for COVID - Dead\n",
    "dead_negative = df2.loc[(df2['COVID'] == 2) & (df2['Date Died'] != '9999-99-99') & (df2['Date Died'].notnull())]\n",
    "\n",
    "apcount = len(alive_positive)\n",
    "dpcount = len(dead_positive)\n",
    "ancount = len(alive_negative)\n",
    "dncount = len(dead_negative)\n",
    "\n",
    "# Plot\n",
    "fig, ax1 = plt.subplots(figsize=(20,10))\n",
    "ax1.set_title('COVID-19 confirmed cases status distribution')\n",
    "patches, texts = ax1.pie(sizes, startangle=90, shadow=True, explode=(0.0,0.1,0.1,0.1),\n",
    "                         wedgeprops={'linewidth': 2,\"edgecolor\":\"#303030\", 'linestyle': 'solid', 'antialiased': True})\n",
    "\n",
    "porcent = 100.*sizes/sizes.sum()\n",
    "tags = ['Alive and Positive', 'Deceased and Positive', 'Alive and Negative', 'Deceaesd and Negative']\n",
    "labels = ['{0} - {1:0.2f}% = {2:0.0f}'.format(tags[x],porcent[x],sizes[x]) for x in range(len(tags))]\n",
    "\n",
    "ax1.legend(patches, labels, loc='best', bbox_to_anchor=(-0.1, 1.), fontsize=15)\n",
    "fig.tight_layout()"
   ]
  },
  {
   "cell_type": "code",
   "execution_count": 48,
   "id": "9355b9f1",
   "metadata": {},
   "outputs": [
    {
     "data": {
      "text/plain": [
       "4405"
      ]
     },
     "execution_count": 48,
     "metadata": {},
     "output_type": "execute_result"
    }
   ],
   "source": [
    "#How many patients in the ICU that dont have COVID\n",
    "patientICU = df2.loc[(df2['ICU'] == 1) &(df2['COVID'] == 2) & (df2['Date Died'] == '9999-99-99') & (df2['Date Died'].notnull())]\n",
    "len(patientICU)"
   ]
  },
  {
   "cell_type": "code",
   "execution_count": 100,
   "id": "4e121611",
   "metadata": {},
   "outputs": [
    {
     "data": {
      "text/plain": [
       "Text(0, 0.5, 'Residence Entity')"
      ]
     },
     "execution_count": 100,
     "metadata": {},
     "output_type": "execute_result"
    },
    {
     "data": {
      "image/png": "[encoded data removed]",
      "text/plain": [
       "<Figure size 640x480 with 1 Axes>"
      ]
     },
     "metadata": {},
     "output_type": "display_data"
    }
   ],
   "source": [
    "df2['Residence Entity'].value_counts().plot(kind='barh')\n",
    "plt.title('Residence Entity Counts')\n",
    "plt.xlabel('Counts')\n",
    "plt.ylabel('Residence Entity')"
   ]
  },
  {
   "cell_type": "code",
   "execution_count": 82,
   "id": "eb55f2c2",
   "metadata": {},
   "outputs": [
    {
     "data": {
      "text/plain": [
       "Text(0, 0.5, 'Count')"
      ]
     },
     "execution_count": 82,
     "metadata": {},
     "output_type": "execute_result"
    },
    {
     "data": {
      "image/png": "[encoded data removed]",
      "text/plain": [
       "<Figure size 640x480 with 1 Axes>"
      ]
     },
     "metadata": {},
     "output_type": "display_data"
    }
   ],
   "source": [
    "#Intubated\n",
    "sns.barplot(x=df2.Intubated.value_counts().index, y=df2.Intubated.value_counts())\n",
    "plt.title('Intubated Counts')\n",
    "plt.xlabel('Intubated')\n",
    "plt.ylabel('Count')"
   ]
  },
  {
   "cell_type": "code",
   "execution_count": 83,
   "id": "fedc4c6c",
   "metadata": {},
   "outputs": [
    {
     "data": {
      "text/plain": [
       "Text(0, 0.5, 'Count')"
      ]
     },
     "execution_count": 83,
     "metadata": {},
     "output_type": "execute_result"
    },
    {
     "data": {
      "image/png": "[encoded data removed]",
      "text/plain": [
       "<Figure size 640x480 with 1 Axes>"
      ]
     },
     "metadata": {},
     "output_type": "display_data"
    }
   ],
   "source": [
    "#Pneumonia\n",
    "sns.barplot(x=df2.Pneumonia.value_counts().index, y=df2.Pneumonia.value_counts())\n",
    "plt.title('Pneumonia Count')\n",
    "plt.xlabel('Pneumonia')\n",
    "plt.ylabel('Count')"
   ]
  },
  {
   "cell_type": "code",
   "execution_count": 84,
   "id": "9ec701d2",
   "metadata": {},
   "outputs": [
    {
     "data": {
      "text/plain": [
       "Text(0, 0.5, 'Count')"
      ]
     },
     "execution_count": 84,
     "metadata": {},
     "output_type": "execute_result"
    },
    {
     "data": {
      "image/png": "[encoded data removed]",
      "text/plain": [
       "<Figure size 640x480 with 1 Axes>"
      ]
     },
     "metadata": {},
     "output_type": "display_data"
    }
   ],
   "source": [
    "#Pregnant\n",
    "sns.barplot(x=df2.Pregnant.value_counts().index, y=df2.Pregnant.value_counts())\n",
    "plt.title('Pregnant Count')\n",
    "plt.xlabel('Pregnant')\n",
    "plt.ylabel('Count')"
   ]
  },
  {
   "cell_type": "code",
   "execution_count": 85,
   "id": "115425b7",
   "metadata": {},
   "outputs": [
    {
     "data": {
      "text/plain": [
       "Text(0, 0.5, 'Count')"
      ]
     },
     "execution_count": 85,
     "metadata": {},
     "output_type": "execute_result"
    },
    {
     "data": {
      "image/png": "[encoded data removed]",
      "text/plain": [
       "<Figure size 640x480 with 1 Axes>"
      ]
     },
     "metadata": {},
     "output_type": "display_data"
    }
   ],
   "source": [
    "#Other Disease\n",
    "sns.barplot(x=df2['Other Disease'].value_counts().index, y=df2['Other Disease'].value_counts())\n",
    "plt.title('Other Disease Count')\n",
    "plt.xlabel('Other Disease')\n",
    "plt.ylabel('Count')"
   ]
  },
  {
   "cell_type": "code",
   "execution_count": 87,
   "id": "75df739c",
   "metadata": {},
   "outputs": [
    {
     "data": {
      "text/plain": [
       "Text(0, 0.5, 'Count')"
      ]
     },
     "execution_count": 87,
     "metadata": {},
     "output_type": "execute_result"
    },
    {
     "data": {
      "image/png": "[encoded data removed]",
      "text/plain": [
       "<Figure size 640x480 with 1 Axes>"
      ]
     },
     "metadata": {},
     "output_type": "display_data"
    }
   ],
   "source": [
    "#COVID Contact\n",
    "sns.barplot(x=df2['COVID Contact'].value_counts().index, y=df2['COVID Contact'].value_counts())\n",
    "plt.title('COVID Contact Counts')\n",
    "plt.xlabel('Covid Contact')\n",
    "plt.ylabel('Count')"
   ]
  },
  {
   "cell_type": "code",
   "execution_count": 88,
   "id": "ec17fb0d",
   "metadata": {},
   "outputs": [
    {
     "data": {
      "text/plain": [
       "Text(0, 0.5, 'Count')"
      ]
     },
     "execution_count": 88,
     "metadata": {},
     "output_type": "execute_result"
    },
    {
     "data": {
      "image/png": "[encoded data removed]",
      "text/plain": [
       "<Figure size 640x480 with 1 Axes>"
      ]
     },
     "metadata": {},
     "output_type": "display_data"
    }
   ],
   "source": [
    "#'ICU'\n",
    "sns.barplot(x=df2.ICU.value_counts().index, y=df2.ICU.value_counts())\n",
    "plt.title('ICU Count')\n",
    "plt.xlabel('ICU')\n",
    "plt.ylabel('Count')"
   ]
  },
  {
   "cell_type": "code",
   "execution_count": null,
   "id": "1baa6030",
   "metadata": {},
   "outputs": [],
   "source": []
  }
 ],
 "metadata": {
  "kernelspec": {
   "display_name": "Python 3 (ipykernel)",
   "language": "python",
   "name": "python3"
  },
  "language_info": {
   "codemirror_mode": {
    "name": "ipython",
    "version": 3
   },
   "file_extension": ".py",
   "mimetype": "text/x-python",
   "name": "python",
   "nbconvert_exporter": "python",
   "pygments_lexer": "ipython3",
   "version": "3.9.15"
  }
 },
 "nbformat": 4,
 "nbformat_minor": 5
}
