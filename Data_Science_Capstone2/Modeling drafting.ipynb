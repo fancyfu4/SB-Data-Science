{
 "cells": [
  {
   "cell_type": "code",
   "execution_count": null,
   "id": "013a8588",
   "metadata": {},
   "outputs": [],
   "source": [
    "y=diabetes_data['Outcome']\n",
    "X=diabetes_data.drop(columns='Outcome')"
   ]
  },
  {
   "cell_type": "code",
   "execution_count": null,
   "id": "650d8bb8",
   "metadata": {},
   "outputs": [],
   "source": [
    "from sklearn.model_selection import train_test_split\n",
    "X_train,X_test,y_train,y_test = train_test_split(X, y, test_size=0.3)"
   ]
  },
  {
   "cell_type": "code",
   "execution_count": null,
   "id": "fadcd611",
   "metadata": {},
   "outputs": [],
   "source": [
    "from sklearn.preprocessing import StandardScaler\n",
    "\n",
    "scaler = StandardScaler()\n",
    "\n",
    "X_train= scaler.fit_transform(X_train)\n",
    "X_test= scaler.transform(X_test)"
   ]
  },
  {
   "cell_type": "code",
   "execution_count": null,
   "id": "d58986eb",
   "metadata": {},
   "outputs": [],
   "source": [
    "from sklearn.neighbors import KNeighborsClassifier\n",
    "\n",
    "\n",
    "test_scores = []\n",
    "train_scores = []\n",
    "\n",
    "for i in range(1,10):\n",
    "\n",
    "    knn = KNeighborsClassifier(i)\n",
    "    knn.fit(X_train,y_train)\n",
    "    \n",
    "    train_scores.append(knn.score(X_train,y_train))\n",
    "    test_scores.append(knn.score(X_test,y_test))"
   ]
  },
  {
   "cell_type": "code",
   "execution_count": null,
   "id": "3b2ce5d0",
   "metadata": {},
   "outputs": [],
   "source": [
    "print('Train Scores', train_scores)\n",
    "print('Test Scores', test_scores)"
   ]
  },
  {
   "cell_type": "code",
   "execution_count": null,
   "id": "56e1c6ed",
   "metadata": {},
   "outputs": [],
   "source": [
    "print('Training Data Neighbors:', train_scores.index(max(train_scores))+1)"
   ]
  },
  {
   "cell_type": "code",
   "execution_count": null,
   "id": "3024d28e",
   "metadata": {},
   "outputs": [],
   "source": [
    "print('Testing Data Neighbors:', test_scores.index(max(test_scores))+1)"
   ]
  },
  {
   "cell_type": "code",
   "execution_count": null,
   "id": "037b384e",
   "metadata": {},
   "outputs": [],
   "source": [
    "plt.figure(figsize=(12,5))\n",
    "p = sns.lineplot(range(1,10),train_scores,marker='*',label='Train Score')\n",
    "p = sns.lineplot(range(1,10),test_scores,marker='o',label='Test Score')"
   ]
  },
  {
   "cell_type": "code",
   "execution_count": null,
   "id": "25fd7c4d",
   "metadata": {},
   "outputs": [],
   "source": [
    "knn=KNeighborsClassifier(4)\n",
    "knn.fit(X_train,y_train)\n",
    "\n",
    "print('Training Data Score: ', knn.score(X_train, y_train))\n",
    "print('Test Data Score: ', knn.score(X_test,y_test))"
   ]
  },
  {
   "cell_type": "code",
   "execution_count": null,
   "id": "59d1f16a",
   "metadata": {},
   "outputs": [],
   "source": [
    "from sklearn.metrics import confusion_matrix\n",
    "y_pred = knn.predict(X_test)\n",
    "pl = confusion_matrix(y_test,y_pred)"
   ]
  },
  {
   "cell_type": "code",
   "execution_count": null,
   "id": "30ba6c90",
   "metadata": {},
   "outputs": [],
   "source": [
    "sns.heatmap(pl, annot=True)\n",
    "plt.ylabel('Test Result')\n",
    "plt.xlabel('Predicted Result');"
   ]
  },
  {
   "cell_type": "code",
   "execution_count": null,
   "id": "a0812d0f",
   "metadata": {},
   "outputs": [],
   "source": [
    "from sklearn.metrics import classification_report\n",
    "\n",
    "print(classification_report(y_test,y_pred))"
   ]
  },
  {
   "cell_type": "code",
   "execution_count": null,
   "id": "64fe5262",
   "metadata": {},
   "outputs": [],
   "source": [
    "from sklearn.model_selection import GridSearchCV\n",
    "param_grid = {'n_neighbors':np.arange(1,50)}\n",
    "knn = KNeighborsClassifier()\n",
    "knn_cv= GridSearchCV(knn,param_grid,cv=5)\n",
    "knn_cv.fit(X,y)"
   ]
  },
  {
   "cell_type": "code",
   "execution_count": null,
   "id": "a6085cd3",
   "metadata": {},
   "outputs": [],
   "source": [
    "print(\"Best Score:\" + str(knn_cv.best_score_))\n",
    "print(\"Best Parameters: \" + str(knn_cv.best_params_))"
   ]
  },
  {
   "cell_type": "code",
   "execution_count": null,
   "id": "ae47cb4a",
   "metadata": {},
   "outputs": [],
   "source": [
    "from sklearn.ensemble import RandomForestClassifier\n",
    "param_grid = {'n_estimators':np.arange(1,50)}\n",
    "ranfor= RandomForestClassifier()\n",
    "ranfor_cv=GridSearchCV(ranfor,param_grid,cv=5)\n",
    "ranfor_cv.fit(X,y)"
   ]
  },
  {
   "cell_type": "code",
   "execution_count": null,
   "id": "9743d214",
   "metadata": {},
   "outputs": [],
   "source": [
    "print('Best Score:' + str(ranfor_cv.best_score_))\n",
    "print('Best Parameters:' + str(ranfor_cv.best_params_))"
   ]
  }
 ],
 "metadata": {
  "kernelspec": {
   "display_name": "Python 3 (ipykernel)",
   "language": "python",
   "name": "python3"
  },
  "language_info": {
   "codemirror_mode": {
    "name": "ipython",
    "version": 3
   },
   "file_extension": ".py",
   "mimetype": "text/x-python",
   "name": "python",
   "nbconvert_exporter": "python",
   "pygments_lexer": "ipython3",
   "version": "3.9.7"
  }
 },
 "nbformat": 4,
 "nbformat_minor": 5
}
