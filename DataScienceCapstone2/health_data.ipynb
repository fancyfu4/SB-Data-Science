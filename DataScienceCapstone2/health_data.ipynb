{
 "cells": [
  {
   "cell_type": "code",
   "execution_count": 1,
   "id": "7b69cbfd",
   "metadata": {},
   "outputs": [],
   "source": [
    "import csv\n",
    "import pandas as pd"
   ]
  },
  {
   "cell_type": "code",
   "execution_count": 2,
   "id": "a7b257bd",
   "metadata": {},
   "outputs": [],
   "source": [
    "file = ('rankmd.csv')\n",
    "df=pd.read_csv(file, sep=';')\n",
    "df.head()"
   ]
  },
  {
   "cell_type": "code",
   "execution_count": 3,
   "id": "4858b313",
   "metadata": {},
   "outputs": [],
   "source": [
    "df.info()"
   ]
  },
  {
   "cell_type": "code",
   "execution_count": 4,
   "id": "50f99b6f",
   "metadata": {},
   "outputs": [],
   "source": [
    "xls=pd.ExcelFile('rankexcel.xlsx')\n",
    "df2=pd.read_excel(xls,'Additional Measure Data')\n",
    "df2=df2.reset_index()\n",
    "df2=df2.rename(columns={\"Unnamed: 1\":\"State\",\"Unnamed: 2\":\"County\"})\n",
    "df2=df2.drop(['index','Unnamed: 0'], axis=1)\n",
    "df2.head()"
   ]
  },
  {
   "cell_type": "code",
   "execution_count": 5,
   "id": "637cbf2d",
   "metadata": {},
   "outputs": [],
   "source": [
    "data_merged=df.merge(df2, on=['County','State'])\n",
    "data_merged.head()"
   ]
  },
  {
   "cell_type": "code",
   "execution_count": 6,
   "id": "8e622428",
   "metadata": {},
   "outputs": [],
   "source": [
    "data_merged.columns"
   ]
  },
  {
   "cell_type": "code",
   "execution_count": 7,
   "id": "710b43ce",
   "metadata": {},
   "outputs": [],
   "source": [
    "data_merged['Unreliable'].value_counts()"
   ]
  },
  {
   "cell_type": "code",
   "execution_count": 8,
   "id": "66279e85",
   "metadata": {},
   "outputs": [],
   "source": [
    "rename_data={}\n",
    "rename_data = data_merged.rename(columns={\n",
    "    'population_Population': 'Population',\n",
    "    '%_rural_% Rural' : '% Rural', \n",
    "    'premature_deathDeaths':'Premature Deaths',\n",
    "    'adult_smoking_% Smokers': '% Smoking',\n",
    "    'adult_obesity_% Adults with Obesity':'% Obesity',\n",
    "    'physical_inactivity_% Physically Inactive':'% Physical Inactivy',\n",
    "    'excessive_drinking_% Excessive Drinking':'% Excessive Drinking',\n",
    "    'uninsured_% Uninsured':'% Uninsured',\n",
    "    'primary_care_physicians_# Primary Care Physicians': 'PCP Number', \n",
    "    'primary_care_physicians_Primary Care Physicians Rate': 'PCP Rate',\n",
    "    'mental_health_providers_# Mental Health Providers': 'MHP Number',  \n",
    "    'mental_health_providers_Mental Health Provider Rate': 'MHP Rate',\n",
    "    'preventable_hospital_stays_Preventable Hospitalization Rate': 'Preventable Hospital Rate',\n",
    "    'mammography_screening_% With Annual Mammogram':'% Mammogram',\n",
    "    'flu_vaccinations_% Vaccinated':'% Flu Vaccine', \n",
    "    'unemployed_% Unemployed': '% Unemployed',\n",
    "    'Median household income': 'Median Household Income'})\n",
    "\n",
    "all_data=rename_data[['State','County','Population','% Rural','Premature Deaths','% Smoking','% Obesity','% Physical Inactivy','% Excessive Drinking','% Uninsured','PCP Number', 'PCP Rate','MHP Number', 'MHP Rate','Preventable Hospital Rate', '% Mammogram','% Flu Vaccine','% Unemployed', 'Median Household Income']]\n",
    "\n",
    "all_data.head()"
   ]
  },
  {
   "cell_type": "code",
   "execution_count": 9,
   "id": "d206f68f",
   "metadata": {},
   "outputs": [],
   "source": [
    "all_data.info()"
   ]
  },
  {
   "cell_type": "code",
   "execution_count": 10,
   "id": "14e987b8",
   "metadata": {},
   "outputs": [],
   "source": [
    "all_data[all_data.duplicated() == True]"
   ]
  },
  {
   "cell_type": "code",
   "execution_count": 11,
   "id": "43c75e9b",
   "metadata": {},
   "outputs": [],
   "source": [
    "missing = pd.concat([all_data.isnull().sum(), 100 * all_data.isnull().mean()], axis=1)\n",
    "missing.columns=['count', '%']\n",
    "missing.sort_values(by='count')"
   ]
  },
  {
   "cell_type": "code",
   "execution_count": 12,
   "id": "b2e55e25",
   "metadata": {},
   "outputs": [],
   "source": [
    "df_sum=all_data.set_index('State').groupby('State').sum()\n",
    "df_sum.head()"
   ]
  },
  {
   "cell_type": "code",
   "execution_count": 13,
   "id": "9a92bcf6",
   "metadata": {},
   "outputs": [],
   "source": [
    "df_sum=all_data.set_index('State').groupby('State').mean()\n",
    "df_sum.head()"
   ]
  },
  {
   "cell_type": "code",
   "execution_count": 14,
   "id": "52b554b0",
   "metadata": {},
   "outputs": [],
   "source": [
    "county = all_data.dropna(axis=0, subset=(\"County\"))"
   ]
  },
  {
   "cell_type": "code",
   "execution_count": 15,
   "id": "fc5dbf13",
   "metadata": {},
   "outputs": [],
   "source": [
    "county = all_data.dropna(axis=0, subset=\"County\")"
   ]
  },
  {
   "cell_type": "code",
   "execution_count": 16,
   "id": "a874eb14",
   "metadata": {},
   "outputs": [],
   "source": [
    "county = all_data.dropna(axis=0, subset= \"County\")"
   ]
  },
  {
   "cell_type": "code",
   "execution_count": 17,
   "id": "efdb00cd",
   "metadata": {},
   "outputs": [],
   "source": [
    "county = all_data.dropna(axis=0, subset= \"MHP Rate\")"
   ]
  },
  {
   "cell_type": "code",
   "execution_count": 18,
   "id": "562f0f81",
   "metadata": {},
   "outputs": [],
   "source": [
    "county = all_data.dropna(axis=0, subset=(\"MHP Number\",\"MHP Rate\",\"Premature Deaths\"))"
   ]
  },
  {
   "cell_type": "code",
   "execution_count": 19,
   "id": "8ccfae75",
   "metadata": {},
   "outputs": [],
   "source": [
    "county = all_data.dropna(axis=0, subset=(\"State\",\"County\"))"
   ]
  },
  {
   "cell_type": "code",
   "execution_count": 20,
   "id": "326826cf",
   "metadata": {},
   "outputs": [],
   "source": [
    "df_sum=county.set_index('State').groupby('State').sum()\n",
    "df_sum.head()"
   ]
  },
  {
   "cell_type": "code",
   "execution_count": 21,
   "id": "9d5b9c23",
   "metadata": {},
   "outputs": [],
   "source": [
    "df_sum=county.set_index('State').groupby('State').mean()\n",
    "df_sum.head()"
   ]
  },
  {
   "cell_type": "code",
   "execution_count": 22,
   "id": "3d9874d0",
   "metadata": {},
   "outputs": [],
   "source": [
    "all_data2 = county.dropna(axis=0, subset=(\"MHP Number\",\"MHP Rate\",\"Premature Deaths\"))\n",
    "all_data2.head()"
   ]
  },
  {
   "cell_type": "code",
   "execution_count": 23,
   "id": "8690cf9f",
   "metadata": {},
   "outputs": [],
   "source": [
    "missing2 = pd.concat([all_data2.isnull().sum(), 100 * all_data2.isnull().mean()], axis=1)\n",
    "missing2.columns=['count', '%']\n",
    "missing2.sort_values(by='count')"
   ]
  },
  {
   "cell_type": "code",
   "execution_count": 24,
   "id": "e037aefe",
   "metadata": {},
   "outputs": [],
   "source": [
    "all_data.head()"
   ]
  }
 ],
 "metadata": {},
 "nbformat": 4,
 "nbformat_minor": 5
}
