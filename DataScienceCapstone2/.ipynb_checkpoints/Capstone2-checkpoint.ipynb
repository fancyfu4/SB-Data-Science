{
 "cells": [
  {
   "cell_type": "code",
   "execution_count": 5,
   "id": "e7bb6c95",
   "metadata": {
    "scrolled": true
   },
   "outputs": [
    {
     "name": "stdout",
     "output_type": "stream",
     "text": [
      "   FIPS    State   County Unreliable  premature_deathDeaths  \\\n",
      "0  1000  Alabama      NaN        NaN                82249.0   \n",
      "1  1001  Alabama  Autauga        NaN                  787.0   \n",
      "2  1003  Alabama  Baldwin        NaN                 3147.0   \n",
      "3  1005  Alabama  Barbour        NaN                  515.0   \n",
      "4  1007  Alabama     Bibb        NaN                  476.0   \n",
      "\n",
      "   premature_deathYears_of_Potential_Life_Lost_Rate  \\\n",
      "0                                            9820.0   \n",
      "1                                            7830.0   \n",
      "2                                            7680.0   \n",
      "3                                           11477.0   \n",
      "4                                           12173.0   \n",
      "\n",
      "   premature_death_95% CILow  premature_death_95% CI - High  \\\n",
      "0                     9718.0                         9922.0   \n",
      "1                     6998.0                         8662.0   \n",
      "2                     7237.0                         8124.0   \n",
      "3                     9908.0                        13045.0   \n",
      "4                    10506.0                        13839.0   \n",
      "\n",
      "   premature_death_Quartile  premature_death_YPLL Rate (AIAN)  ...  \\\n",
      "0                       NaN                            5145.0  ...   \n",
      "1                       1.0                               NaN  ...   \n",
      "2                       1.0                               NaN  ...   \n",
      "3                       3.0                               NaN  ...   \n",
      "4                       4.0                               NaN  ...   \n",
      "\n",
      "   drive_alone_to_work_% Drive Alone (Hispanic) 95% CI - High  \\\n",
      "0                                               78.0            \n",
      "1                                                NaN            \n",
      "2                                               83.0            \n",
      "3                                                NaN            \n",
      "4                                                NaN            \n",
      "\n",
      "   drive_alone_to_work_% Drive Alone (White)  \\\n",
      "0                                       87.0   \n",
      "1                                       82.0   \n",
      "2                                       82.0   \n",
      "3                                       86.0   \n",
      "4                                        NaN   \n",
      "\n",
      "  drive_alone_to_work_% Drive Alone (White) 95% CI - Low  \\\n",
      "0                                               87.0       \n",
      "1                                               78.0       \n",
      "2                                               80.0       \n",
      "3                                               82.0       \n",
      "4                                                NaN       \n",
      "\n",
      "   drive_alone_to_work_% Drive Alone (White) 95% CI - High  \\\n",
      "0                                               87.0         \n",
      "1                                               87.0         \n",
      "2                                               84.0         \n",
      "3                                               91.0         \n",
      "4                                                NaN         \n",
      "\n",
      "   long_commute_driving_alone_# Workers who Drive Alone  \\\n",
      "0                                            2073072      \n",
      "1                                              24635      \n",
      "2                                              93141      \n",
      "3                                               8231      \n",
      "4                                               8167      \n",
      "\n",
      "   long_commute_driving_alone_% Long Commute - Drives Alone  \\\n",
      "0                                                 35          \n",
      "1                                                 38          \n",
      "2                                                 40          \n",
      "3                                                 31          \n",
      "4                                                 52          \n",
      "\n",
      "  long_commute_driving_alone_95% CI - Low  \\\n",
      "0                                      34   \n",
      "1                                      34   \n",
      "2                                      38   \n",
      "3                                      26   \n",
      "4                                      44   \n",
      "\n",
      "   long_commute_driving_alone_95% CI - High  \\\n",
      "0                                        35   \n",
      "1                                        42   \n",
      "2                                        43   \n",
      "3                                        36   \n",
      "4                                        60   \n",
      "\n",
      "   long_commute_driving_alone_Quartile  Unnamed: 249  \n",
      "0                                  NaN           NaN  \n",
      "1                                  2.0           NaN  \n",
      "2                                  3.0           NaN  \n",
      "3                                  2.0           NaN  \n",
      "4                                  4.0           NaN  \n",
      "\n",
      "[5 rows x 250 columns]\n"
     ]
    }
   ],
   "source": [
    "#Data Collection: load data from rankmd - first sheet\n",
    "\n",
    "import csv\n",
    "import pandas as pd\n",
    "\n",
    "file = ('rankmd.csv')\n",
    "df=pd.read_csv(file, sep=';')\n",
    "print(df.head())"
   ]
  },
  {
   "cell_type": "code",
   "execution_count": 6,
   "id": "2b58fce7",
   "metadata": {},
   "outputs": [
    {
     "name": "stdout",
     "output_type": "stream",
     "text": [
      "           State  County  Preventable Hospital Stays  PCP Number  PCP Rate  \\\n",
      "3000  Washington     NaN                      2853.0      6364.0      84.0   \n",
      "3001  Washington   Adams                      2294.0        10.0      51.0   \n",
      "3002  Washington  Asotin                      2492.0        18.0      80.0   \n",
      "3003  Washington  Benton                      4160.0       141.0      70.0   \n",
      "3004  Washington  Chelan                      2277.0        94.0     122.0   \n",
      "\n",
      "      MHP Number  MHP Rate  Smoking %  Obesity %  Physical Inactivy %  \\\n",
      "3000     30397.0     399.0         12         29                   16   \n",
      "3001        34.0     170.0         17         35                   23   \n",
      "3002        86.0     381.0         18         32                   19   \n",
      "3003       585.0     286.0         14         35                   16   \n",
      "3004       314.0     407.0         14         33                   20   \n",
      "\n",
      "      Mammogram Percent  Flu Vaccine Percent  Income 80%  Income 20%  \n",
      "3000               40.0                 47.0    141566.0     31895.0  \n",
      "3001               34.0                 37.0     92867.0     22009.0  \n",
      "3002               49.0                 48.0    101681.0     25648.0  \n",
      "3003               43.0                 52.0    129480.0     30353.0  \n",
      "3004               39.0                 34.0    111884.0     26439.0  \n"
     ]
    }
   ],
   "source": [
    "#Data Definition: isolate WA rows, rename and isolate columns with data to use\n",
    "wa_data={}\n",
    "wa_data=df.loc[3000:3039,:]\n",
    "wa_data = wa_data.rename(columns={\"preventable_hospital_stays_Preventable Hospitalization Rate\": \"Preventable Hospital Stays\",\n",
    "                                  'primary_care_physicians_# Primary Care Physicians': 'PCP Number', \n",
    "                              'primary_care_physicians_Primary Care Physicians Rate': 'PCP Rate', \n",
    "                              'mental_health_providers_# Mental Health Providers': 'MHP Number', \n",
    "                              'mental_health_providers_Mental Health Provider Rate': 'MHP Rate',\n",
    "                                  'adult_smoking_% Smokers': 'Smoking %',\n",
    "                                  'adult_obesity_% Adults with Obesity':'Obesity %',\n",
    "                                  'physical_inactivity_% Physically Inactive':'Physical Inactivy %',\n",
    "                                  'mammography_screening_% With Annual Mammogram':'Mammogram Percent',\n",
    "                                  'flu_vaccinations_% Vaccinated':'Flu Vaccine Percent',\n",
    "                                  'income_inequality_80th Percentile Income':'Income 80%', \n",
    "                                  'income_inequality_20th Percentile Income':'Income 20%'\n",
    "                                 })\n",
    "\n",
    "wa_data2=wa_data[['State','County','Preventable Hospital Stays','PCP Number', 'PCP Rate','MHP Number', 'MHP Rate','Smoking %','Obesity %','Physical Inactivy %','Mammogram Percent','Flu Vaccine Percent','Income 80%', 'Income 20%']]\n",
    "\n",
    "print(wa_data2.head())"
   ]
  },
  {
   "cell_type": "code",
   "execution_count": 7,
   "id": "9c1a4886",
   "metadata": {},
   "outputs": [
    {
     "name": "stdout",
     "output_type": "stream",
     "text": [
      "        State  County Life expectancy\n",
      "0  Washington     NaN       80.420203\n",
      "1  Washington   Adams       80.204006\n",
      "2  Washington  Asotin         79.3367\n",
      "3  Washington  Benton       80.447904\n",
      "4  Washington  Chelan       80.627327\n"
     ]
    }
   ],
   "source": [
    "#Data Collection/Data Organization: Data from rankexcel - second sheet, rename columns to use\n",
    "\n",
    "xls=pd.ExcelFile('rankexcel.xlsx')\n",
    "df1=pd.read_excel(xls,'Additional Measure Data')\n",
    "wa_le=df1.iloc[3001:3041, 0:4]\n",
    "life_exp=wa_le.reset_index()\n",
    "life_exp2=life_exp.rename(columns={\"Unnamed: 1\":\"State\",\"Unnamed: 2\":\"County\"})\n",
    "life_exp3=life_exp2.drop(['index','Unnamed: 0'], axis=1)\n",
    "print(life_exp3.head())"
   ]
  },
  {
   "cell_type": "code",
   "execution_count": 8,
   "id": "246055b2",
   "metadata": {},
   "outputs": [
    {
     "name": "stdout",
     "output_type": "stream",
     "text": [
      "        State  County  Preventable Hospital Stays  PCP Number  PCP Rate  \\\n",
      "0  Washington     NaN                      2853.0      6364.0      84.0   \n",
      "1  Washington   Adams                      2294.0        10.0      51.0   \n",
      "2  Washington  Asotin                      2492.0        18.0      80.0   \n",
      "3  Washington  Benton                      4160.0       141.0      70.0   \n",
      "4  Washington  Chelan                      2277.0        94.0     122.0   \n",
      "\n",
      "   MHP Number  MHP Rate  Smoking %  Obesity %  Physical Inactivy %  \\\n",
      "0     30397.0     399.0         12         29                   16   \n",
      "1        34.0     170.0         17         35                   23   \n",
      "2        86.0     381.0         18         32                   19   \n",
      "3       585.0     286.0         14         35                   16   \n",
      "4       314.0     407.0         14         33                   20   \n",
      "\n",
      "   Mammogram Percent  Flu Vaccine Percent  Income 80%  Income 20%  \\\n",
      "0               40.0                 47.0    141566.0     31895.0   \n",
      "1               34.0                 37.0     92867.0     22009.0   \n",
      "2               49.0                 48.0    101681.0     25648.0   \n",
      "3               43.0                 52.0    129480.0     30353.0   \n",
      "4               39.0                 34.0    111884.0     26439.0   \n",
      "\n",
      "  Life expectancy  \n",
      "0       80.420203  \n",
      "1       80.204006  \n",
      "2         79.3367  \n",
      "3       80.447904  \n",
      "4       80.627327  \n"
     ]
    }
   ],
   "source": [
    "#Data Collection - Join data \n",
    "all_data=wa_data2.merge(life_exp3, on=['County','State'])\n",
    "print(all_data.head())"
   ]
  },
  {
   "cell_type": "code",
   "execution_count": null,
   "id": "b7db003f",
   "metadata": {},
   "outputs": [],
   "source": [
    "#Find Max of preventable hospitalization stays, PCP%, rate, ratio, MHP%, rate, ratio\n",
    "wa_max=wa_data2.max(axis=0)\n",
    "print(wa_max)"
   ]
  },
  {
   "cell_type": "code",
   "execution_count": null,
   "id": "b00764a1",
   "metadata": {},
   "outputs": [],
   "source": [
    "#Find Mean of preventable hospitalization stays, PCP%, rate, ratio, MHP%, rate, ratio\n",
    "wa_min=wa_data2.min(axis=0)\n",
    "print(wa_min)"
   ]
  },
  {
   "cell_type": "code",
   "execution_count": null,
   "id": "d618bc7d",
   "metadata": {},
   "outputs": [],
   "source": [
    "wa_mean=wa_data2.mean(axis=0)\n",
    "print(wa_mean)"
   ]
  }
 ],
 "metadata": {
  "kernelspec": {
   "display_name": "Python 3 (ipykernel)",
   "language": "python",
   "name": "python3"
  },
  "language_info": {
   "codemirror_mode": {
    "name": "ipython",
    "version": 3
   },
   "file_extension": ".py",
   "mimetype": "text/x-python",
   "name": "python",
   "nbconvert_exporter": "python",
   "pygments_lexer": "ipython3",
   "version": "3.9.7"
  }
 },
 "nbformat": 4,
 "nbformat_minor": 5
}
