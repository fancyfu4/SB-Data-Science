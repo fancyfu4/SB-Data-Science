{
 "cells": [
  {
   "cell_type": "code",
   "execution_count": 1,
   "id": "e40521cb",
   "metadata": {},
   "outputs": [],
   "source": [
    "import csv\n",
    "import pandas as pd"
   ]
  },
  {
   "cell_type": "code",
   "execution_count": 2,
   "id": "6bdc5305",
   "metadata": {},
   "outputs": [],
   "source": [
    "file = ('rankmd.csv')\n",
    "df=pd.read_csv(file, sep=';')\n",
    "df.head()"
   ]
  },
  {
   "cell_type": "code",
   "execution_count": 3,
   "id": "c86d365c",
   "metadata": {},
   "outputs": [],
   "source": [
    "df.info()"
   ]
  },
  {
   "cell_type": "code",
   "execution_count": 4,
   "id": "ba3960f4",
   "metadata": {},
   "outputs": [],
   "source": [
    "xls=pd.ExcelFile('rankexcel.xlsx')\n",
    "df1=pd.read_excel(xls,'Additional Measure Data')\n",
    "data_le=df1.iloc[:, 0:4]\n",
    "life_exp=data_le.reset_index()\n",
    "life_exp2=life_exp.rename(columns={\"Unnamed: 1\":\"State\",\"Unnamed: 2\":\"County\"})\n",
    "life_exp3=life_exp2.drop(['index','Unnamed: 0'], axis=1)\n",
    "life_exp3.head()"
   ]
  },
  {
   "cell_type": "code",
   "execution_count": 5,
   "id": "76ba5925",
   "metadata": {},
   "outputs": [],
   "source": [
    "data_merged=df.merge(life_exp3, on=['County','State'])\n",
    "data_merged.head()"
   ]
  },
  {
   "cell_type": "code",
   "execution_count": 6,
   "id": "8961e3e3",
   "metadata": {},
   "outputs": [],
   "source": [
    "rename_data={}\n",
    "rename_data = data_merged.rename(columns={\"preventable_hospital_stays_Preventable Hospitalization Rate\": \"Preventable Hospital Stays\",\n",
    "                                  'primary_care_physicians_# Primary Care Physicians': 'PCP Number', \n",
    "                              'primary_care_physicians_Primary Care Physicians Rate': 'PCP Rate', \n",
    "                              'mental_health_providers_# Mental Health Providers': 'MHP Number', \n",
    "                              'mental_health_providers_Mental Health Provider Rate': 'MHP Rate',\n",
    "                                  'adult_smoking_% Smokers': 'Smoking %',\n",
    "                                  'adult_obesity_% Adults with Obesity':'Obesity %',\n",
    "                                  'physical_inactivity_% Physically Inactive':'Physical Inactivy %',\n",
    "                                  'mammography_screening_% With Annual Mammogram':'Mammogram %',\n",
    "                                  'flu_vaccinations_% Vaccinated':'Flu Vaccine %',\n",
    "                                  'income_inequality_80th Percentile Income':'Income 80%', \n",
    "                                  'income_inequality_20th Percentile Income':'Income 20%'\n",
    "                                 })\n",
    "\n",
    "all_data=rename_data[['State','County','Preventable Hospital Stays','PCP Number', 'PCP Rate','MHP Number', 'MHP Rate','Smoking %','Obesity %','Physical Inactivy %','Mammogram %','Flu Vaccine %','Income 80%', 'Income 20%']]\n",
    "\n",
    "all_data.head()"
   ]
  },
  {
   "cell_type": "code",
   "execution_count": 7,
   "id": "a9b28710",
   "metadata": {},
   "outputs": [],
   "source": [
    "all_data.info()"
   ]
  },
  {
   "cell_type": "code",
   "execution_count": 8,
   "id": "32e035a2",
   "metadata": {},
   "outputs": [],
   "source": [
    "all_data[all_data.duplicated() == True]"
   ]
  },
  {
   "cell_type": "code",
   "execution_count": 9,
   "id": "9db6858d",
   "metadata": {},
   "outputs": [],
   "source": [
    "missing = pd.concat([all_data.isnull().sum(), 100 * all_data.isnull().mean()], axis=1)\n",
    "missing.columns=['count', '%']\n",
    "missing.sort_values(by='count')"
   ]
  },
  {
   "cell_type": "code",
   "execution_count": 10,
   "id": "56c0ea09",
   "metadata": {},
   "outputs": [],
   "source": [
    "df_ave=all_data.set_index('State').groupby('State').mean()\n",
    "df_ave.head()"
   ]
  },
  {
   "cell_type": "code",
   "execution_count": 11,
   "id": "cc273c32",
   "metadata": {},
   "outputs": [],
   "source": [
    "df_sum=all_data.set_index('State').groupby('State').sum()\n",
    "df_sum.head()"
   ]
  },
  {
   "cell_type": "code",
   "execution_count": 12,
   "id": "262d083f",
   "metadata": {},
   "outputs": [],
   "source": [
    "all_data.head()"
   ]
  },
  {
   "cell_type": "code",
   "execution_count": 13,
   "id": "4d3ff48d",
   "metadata": {},
   "outputs": [],
   "source": [
    "health_data=all_data.dropna(axis=0, how='any', thresh=None, subset=None, inplace=False)\n",
    "health_data.head()"
   ]
  },
  {
   "cell_type": "code",
   "execution_count": 14,
   "id": "dcf54305",
   "metadata": {},
   "outputs": [],
   "source": [
    "health_data.info()"
   ]
  }
 ],
 "metadata": {
  "kernelspec": {
   "display_name": "Python 3 (ipykernel)",
   "language": "python",
   "name": "python3"
  },
  "language_info": {
   "codemirror_mode": {
    "name": "ipython",
    "version": 3
   },
   "file_extension": ".py",
   "mimetype": "text/x-python",
   "name": "python",
   "nbconvert_exporter": "python",
   "pygments_lexer": "ipython3",
   "version": "3.9.7"
  }
 },
 "nbformat": 4,
 "nbformat_minor": 5
}
